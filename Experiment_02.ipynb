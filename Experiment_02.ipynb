{
  "cells": [
    {
      "cell_type": "markdown",
      "metadata": {
        "id": "view-in-github",
        "colab_type": "text"
      },
      "source": [
        "<a href=\"https://colab.research.google.com/github/Shivani-saran/Social-Analytics-Web-Development_Lab/blob/main/Experiment_02.ipynb\" target=\"_parent\"><img src=\"https://colab.research.google.com/assets/colab-badge.svg\" alt=\"Open In Colab\"/></a>"
      ]
    },
    {
      "cell_type": "code",
      "source": [
        "print(\"SHIVANI SARAN_500075219\")"
      ],
      "metadata": {
        "colab": {
          "base_uri": "https://localhost:8080/"
        },
        "id": "Y6hBT2gUMe88",
        "outputId": "e50f569a-bfd2-4ca6-aed9-2292776754e9"
      },
      "execution_count": 27,
      "outputs": [
        {
          "output_type": "stream",
          "name": "stdout",
          "text": [
            "SHIVANI SARAN_500075219\n"
          ]
        }
      ]
    },
    {
      "cell_type": "markdown",
      "metadata": {
        "id": "J8aqS8xqAcXH"
      },
      "source": [
        "Write a code to anlyze the tweets\n"
      ]
    },
    {
      "cell_type": "code",
      "execution_count": 2,
      "metadata": {
        "colab": {
          "base_uri": "https://localhost:8080/"
        },
        "id": "QXyY_LjM5Cak",
        "outputId": "108032d9-b57e-45cd-ceb9-62d81e689726"
      },
      "outputs": [
        {
          "output_type": "stream",
          "name": "stdout",
          "text": [
            "Requirement already satisfied: tweepy in /usr/local/lib/python3.7/dist-packages (3.10.0)\n",
            "Requirement already satisfied: requests-oauthlib>=0.7.0 in /usr/local/lib/python3.7/dist-packages (from tweepy) (1.3.1)\n",
            "Requirement already satisfied: requests[socks]>=2.11.1 in /usr/local/lib/python3.7/dist-packages (from tweepy) (2.23.0)\n",
            "Requirement already satisfied: six>=1.10.0 in /usr/local/lib/python3.7/dist-packages (from tweepy) (1.15.0)\n",
            "Requirement already satisfied: oauthlib>=3.0.0 in /usr/local/lib/python3.7/dist-packages (from requests-oauthlib>=0.7.0->tweepy) (3.2.0)\n",
            "Requirement already satisfied: idna<3,>=2.5 in /usr/local/lib/python3.7/dist-packages (from requests[socks]>=2.11.1->tweepy) (2.10)\n",
            "Requirement already satisfied: chardet<4,>=3.0.2 in /usr/local/lib/python3.7/dist-packages (from requests[socks]>=2.11.1->tweepy) (3.0.4)\n",
            "Requirement already satisfied: urllib3!=1.25.0,!=1.25.1,<1.26,>=1.21.1 in /usr/local/lib/python3.7/dist-packages (from requests[socks]>=2.11.1->tweepy) (1.24.3)\n",
            "Requirement already satisfied: certifi>=2017.4.17 in /usr/local/lib/python3.7/dist-packages (from requests[socks]>=2.11.1->tweepy) (2021.10.8)\n",
            "Requirement already satisfied: PySocks!=1.5.7,>=1.5.6 in /usr/local/lib/python3.7/dist-packages (from requests[socks]>=2.11.1->tweepy) (1.7.1)\n"
          ]
        }
      ],
      "source": [
        "!pip install tweepy"
      ]
    },
    {
      "cell_type": "code",
      "execution_count": 3,
      "metadata": {
        "colab": {
          "base_uri": "https://localhost:8080/"
        },
        "id": "XQ1U25wv5SP9",
        "outputId": "0c69a229-ecd5-4345-89de-687b815540e6"
      },
      "outputs": [
        {
          "output_type": "stream",
          "name": "stdout",
          "text": [
            "Requirement already satisfied: textblob in /usr/local/lib/python3.7/dist-packages (0.15.3)\n",
            "Requirement already satisfied: nltk>=3.1 in /usr/local/lib/python3.7/dist-packages (from textblob) (3.2.5)\n",
            "Requirement already satisfied: six in /usr/local/lib/python3.7/dist-packages (from nltk>=3.1->textblob) (1.15.0)\n"
          ]
        }
      ],
      "source": [
        "!pip install textblob"
      ]
    },
    {
      "cell_type": "code",
      "execution_count": 4,
      "metadata": {
        "id": "cyKcnPPTWGKp"
      },
      "outputs": [],
      "source": [
        "import tweepy\n",
        "import pandas as pd"
      ]
    },
    {
      "cell_type": "code",
      "execution_count": 5,
      "metadata": {
        "id": "naBS67zv7nHO"
      },
      "outputs": [],
      "source": [
        "consumer_key=\"1J42kbl6Knwpva7wsLv1pBK1X\"\n",
        "consumer_secret=\"lSCoQfcwMJfe3ipVICwsrDLhALkuwyuAko5KFz1BscmvpMbKVK\"\n",
        "access_token=\"1498914827460247555-p8e9GbdYNgwNHh1ohsl31RMOFEJXOr\"\n",
        "access_token_secret=\"oclid72frFFgBOuKZ1wamd0jbRsliSNnFWTGK3Mn33vdW\"\n",
        "auth = tweepy.OAuthHandler(consumer_key, consumer_secret)\n",
        "auth.set_access_token(access_token, access_token_secret)\n",
        "api = tweepy.API(auth)"
      ]
    },
    {
      "cell_type": "markdown",
      "source": [
        "**tweet from Alon Musk**\n",
        "\n",
        "\n",
        "\n"
      ],
      "metadata": {
        "id": "-pJMMxcvJLvN"
      }
    },
    {
      "cell_type": "code",
      "execution_count": 6,
      "metadata": {
        "id": "nZXPuvzAWUw-"
      },
      "outputs": [],
      "source": [
        "cursor = tweepy.Cursor(api.user_timeline, id='elonmusk', tweet_mode=\"extended\").items(1)"
      ]
    },
    {
      "cell_type": "code",
      "execution_count": 7,
      "metadata": {
        "id": "eyUVShCPWZ5M",
        "colab": {
          "base_uri": "https://localhost:8080/"
        },
        "outputId": "f4bf38ff-43de-4eff-f894-b61af50257db"
      },
      "outputs": [
        {
          "output_type": "stream",
          "name": "stdout",
          "text": [
            "@SirineAti @EvaFoxU The Story of Civilization, especially books 2 &amp; 11\n"
          ]
        }
      ],
      "source": [
        "for i in cursor:\n",
        "  print(i.full_text)"
      ]
    },
    {
      "cell_type": "markdown",
      "source": [
        "**last 200 tweets from Alon Musk**"
      ],
      "metadata": {
        "id": "IwYnNybtJsfj"
      }
    },
    {
      "cell_type": "code",
      "execution_count": 8,
      "metadata": {
        "id": "x4eydMImWk7v"
      },
      "outputs": [],
      "source": [
        "number_of_tweets = 200\n",
        "tweets = []\n",
        "likes = []\n",
        "time = []\n",
        "\n",
        "for i in tweepy.Cursor(api.user_timeline, id='elonmusk', tweet_mode=\"extended\").items(number_of_tweets):\n",
        "  tweets.append(i.full_text)\n",
        "  likes.append(i.favorite_count)\n",
        "  time.append(i.created_at)"
      ]
    },
    {
      "cell_type": "code",
      "execution_count": 9,
      "metadata": {
        "colab": {
          "base_uri": "https://localhost:8080/"
        },
        "id": "tM3B50YGWqtH",
        "outputId": "9a7604eb-d0ef-4828-8c17-24f2ece35c40"
      },
      "outputs": [
        {
          "output_type": "execute_result",
          "data": {
            "text/plain": [
              "['@SirineAti @EvaFoxU The Story of Civilization, especially books 2 &amp; 11',\n",
              " '@EvaFoxU Insightful analysis, ensconced in eloquent prose',\n",
              " 'Fifteen Decisive Battles of the World',\n",
              " '@RationalEtienne @archaeologyart @HardcoreHistory Cereal, but maybe I’ve been doing it wrong all this time. I know it’s bad for you, but sugared cereal is amazing.',\n",
              " '@PPathole @SpaceX Me encanta el mariachi!',\n",
              " '@archaeologyart @HardcoreHistory The Forbidden Cereal 🥣',\n",
              " '@haltman Little do they know, birds aren’t real! https://t.co/mBPzUQMxRN',\n",
              " '@waitbutwhy What if one atom at a time in your body was switched out for another atom? There would be you with all new atoms and another you with the original atoms – Human of Theseus.',\n",
              " '@WholeMarsBlog @Erdayastronaut @CopSub This weekend',\n",
              " '@FedorovMykhailo @OMarkarova You’re welcome. We have also sent power adapters for car cigarette lighters, solar/battery packs and generators for places where electricity is not available.',\n",
              " '@PPathole @SpaceX Optimized, fully-reusable Starship is ~150t to same reference orbit as Saturn V. In expendable mode, Starship payload would be 250t to 300t.',\n",
              " '@Erdayastronaut @CopSub In our experience, COPV gain/pain flattens out above 6000 psi and is &lt;1 above 10,000 psi, unless volume constrained like Dragon. \\n\\nHeating from pressurization &amp; cooling from depressurization also become major problems at very high pressure.',\n",
              " '@Kristennetten @BBCScienceNews There is no direct evidence of that ad being run, but that does sum up the sales pitch. It is mind-blowing that he &amp; his crew *rowed* to a whaling station from the Antarctic!',\n",
              " '@EvaFoxU Very important that there be an organization tasked with regulation removal or the number of rules will grow every year until progress is completely buried by bureaucracy!',\n",
              " '@ashleevance Wow',\n",
              " 'Another 48 Starlinks just reached orbit https://t.co/BLb2x69lvQ',\n",
              " '@BBCScienceNews Cool',\n",
              " 'https://t.co/e3kFCmREaC',\n",
              " '@wintonARK @pmarca ESG should be deleted if not fixed',\n",
              " '@pmarca ESG rules have been twisted to insanity']"
            ]
          },
          "metadata": {},
          "execution_count": 9
        }
      ],
      "source": [
        "tweets"
      ]
    },
    {
      "cell_type": "markdown",
      "source": [
        "**Creating Dataframes**"
      ],
      "metadata": {
        "id": "hmClM9FRJ-1q"
      }
    },
    {
      "cell_type": "code",
      "execution_count": 10,
      "metadata": {
        "id": "NtM0Fhn1WvRT"
      },
      "outputs": [],
      "source": [
        "df = pd.DataFrame({'tweets':tweets,'likes':likes,'time':time})"
      ]
    },
    {
      "cell_type": "code",
      "execution_count": 11,
      "metadata": {
        "colab": {
          "base_uri": "https://localhost:8080/",
          "height": 676
        },
        "id": "XdXjFreBWzzA",
        "outputId": "4d90db08-56a2-4102-f382-03c568c3bf46"
      },
      "outputs": [
        {
          "output_type": "execute_result",
          "data": {
            "text/plain": [
              "                                               tweets   likes  \\\n",
              "0   @SirineAti @EvaFoxU The Story of Civilization,...    3150   \n",
              "1   @EvaFoxU Insightful analysis, ensconced in elo...    6098   \n",
              "2               Fifteen Decisive Battles of the World   66743   \n",
              "3   @RationalEtienne @archaeologyart @HardcoreHist...    3322   \n",
              "4           @PPathole @SpaceX Me encanta el mariachi!   71108   \n",
              "5   @archaeologyart @HardcoreHistory The Forbidden...   10073   \n",
              "6   @haltman Little do they know, birds aren’t rea...   19479   \n",
              "7   @waitbutwhy What if one atom at a time in your...   38896   \n",
              "8   @WholeMarsBlog @Erdayastronaut @CopSub This we...    3682   \n",
              "9   @FedorovMykhailo @OMarkarova You’re welcome. W...   41521   \n",
              "10  @PPathole @SpaceX Optimized, fully-reusable St...   12679   \n",
              "11  @Erdayastronaut @CopSub In our experience, COP...    5465   \n",
              "12  @Kristennetten @BBCScienceNews There is no dir...    3204   \n",
              "13  @EvaFoxU Very important that there be an organ...   14518   \n",
              "14                                   @ashleevance Wow   14472   \n",
              "15  Another 48 Starlinks just reached orbit https:...  146392   \n",
              "16                               @BBCScienceNews Cool   10475   \n",
              "17                            https://t.co/e3kFCmREaC  609371   \n",
              "18  @wintonARK @pmarca ESG should be deleted if no...    4217   \n",
              "19    @pmarca ESG rules have been twisted to insanity   12729   \n",
              "\n",
              "                  time  \n",
              "0  2022-03-13 11:12:31  \n",
              "1  2022-03-13 11:06:30  \n",
              "2  2022-03-13 11:02:24  \n",
              "3  2022-03-12 19:42:46  \n",
              "4  2022-03-12 18:16:01  \n",
              "5  2022-03-12 09:32:34  \n",
              "6  2022-03-11 19:41:28  \n",
              "7  2022-03-11 00:31:09  \n",
              "8  2022-03-10 05:44:23  \n",
              "9  2022-03-09 21:49:49  \n",
              "10 2022-03-09 21:41:57  \n",
              "11 2022-03-09 21:36:46  \n",
              "12 2022-03-09 19:29:56  \n",
              "13 2022-03-09 19:27:00  \n",
              "14 2022-03-09 19:18:27  \n",
              "15 2022-03-09 14:01:23  \n",
              "16 2022-03-09 07:19:03  \n",
              "17 2022-03-09 06:47:17  \n",
              "18 2022-03-08 18:26:28  \n",
              "19 2022-03-08 13:54:58  "
            ],
            "text/html": [
              "\n",
              "  <div id=\"df-5791b877-b50e-4983-a988-e8839b255b64\">\n",
              "    <div class=\"colab-df-container\">\n",
              "      <div>\n",
              "<style scoped>\n",
              "    .dataframe tbody tr th:only-of-type {\n",
              "        vertical-align: middle;\n",
              "    }\n",
              "\n",
              "    .dataframe tbody tr th {\n",
              "        vertical-align: top;\n",
              "    }\n",
              "\n",
              "    .dataframe thead th {\n",
              "        text-align: right;\n",
              "    }\n",
              "</style>\n",
              "<table border=\"1\" class=\"dataframe\">\n",
              "  <thead>\n",
              "    <tr style=\"text-align: right;\">\n",
              "      <th></th>\n",
              "      <th>tweets</th>\n",
              "      <th>likes</th>\n",
              "      <th>time</th>\n",
              "    </tr>\n",
              "  </thead>\n",
              "  <tbody>\n",
              "    <tr>\n",
              "      <th>0</th>\n",
              "      <td>@SirineAti @EvaFoxU The Story of Civilization,...</td>\n",
              "      <td>3150</td>\n",
              "      <td>2022-03-13 11:12:31</td>\n",
              "    </tr>\n",
              "    <tr>\n",
              "      <th>1</th>\n",
              "      <td>@EvaFoxU Insightful analysis, ensconced in elo...</td>\n",
              "      <td>6098</td>\n",
              "      <td>2022-03-13 11:06:30</td>\n",
              "    </tr>\n",
              "    <tr>\n",
              "      <th>2</th>\n",
              "      <td>Fifteen Decisive Battles of the World</td>\n",
              "      <td>66743</td>\n",
              "      <td>2022-03-13 11:02:24</td>\n",
              "    </tr>\n",
              "    <tr>\n",
              "      <th>3</th>\n",
              "      <td>@RationalEtienne @archaeologyart @HardcoreHist...</td>\n",
              "      <td>3322</td>\n",
              "      <td>2022-03-12 19:42:46</td>\n",
              "    </tr>\n",
              "    <tr>\n",
              "      <th>4</th>\n",
              "      <td>@PPathole @SpaceX Me encanta el mariachi!</td>\n",
              "      <td>71108</td>\n",
              "      <td>2022-03-12 18:16:01</td>\n",
              "    </tr>\n",
              "    <tr>\n",
              "      <th>5</th>\n",
              "      <td>@archaeologyart @HardcoreHistory The Forbidden...</td>\n",
              "      <td>10073</td>\n",
              "      <td>2022-03-12 09:32:34</td>\n",
              "    </tr>\n",
              "    <tr>\n",
              "      <th>6</th>\n",
              "      <td>@haltman Little do they know, birds aren’t rea...</td>\n",
              "      <td>19479</td>\n",
              "      <td>2022-03-11 19:41:28</td>\n",
              "    </tr>\n",
              "    <tr>\n",
              "      <th>7</th>\n",
              "      <td>@waitbutwhy What if one atom at a time in your...</td>\n",
              "      <td>38896</td>\n",
              "      <td>2022-03-11 00:31:09</td>\n",
              "    </tr>\n",
              "    <tr>\n",
              "      <th>8</th>\n",
              "      <td>@WholeMarsBlog @Erdayastronaut @CopSub This we...</td>\n",
              "      <td>3682</td>\n",
              "      <td>2022-03-10 05:44:23</td>\n",
              "    </tr>\n",
              "    <tr>\n",
              "      <th>9</th>\n",
              "      <td>@FedorovMykhailo @OMarkarova You’re welcome. W...</td>\n",
              "      <td>41521</td>\n",
              "      <td>2022-03-09 21:49:49</td>\n",
              "    </tr>\n",
              "    <tr>\n",
              "      <th>10</th>\n",
              "      <td>@PPathole @SpaceX Optimized, fully-reusable St...</td>\n",
              "      <td>12679</td>\n",
              "      <td>2022-03-09 21:41:57</td>\n",
              "    </tr>\n",
              "    <tr>\n",
              "      <th>11</th>\n",
              "      <td>@Erdayastronaut @CopSub In our experience, COP...</td>\n",
              "      <td>5465</td>\n",
              "      <td>2022-03-09 21:36:46</td>\n",
              "    </tr>\n",
              "    <tr>\n",
              "      <th>12</th>\n",
              "      <td>@Kristennetten @BBCScienceNews There is no dir...</td>\n",
              "      <td>3204</td>\n",
              "      <td>2022-03-09 19:29:56</td>\n",
              "    </tr>\n",
              "    <tr>\n",
              "      <th>13</th>\n",
              "      <td>@EvaFoxU Very important that there be an organ...</td>\n",
              "      <td>14518</td>\n",
              "      <td>2022-03-09 19:27:00</td>\n",
              "    </tr>\n",
              "    <tr>\n",
              "      <th>14</th>\n",
              "      <td>@ashleevance Wow</td>\n",
              "      <td>14472</td>\n",
              "      <td>2022-03-09 19:18:27</td>\n",
              "    </tr>\n",
              "    <tr>\n",
              "      <th>15</th>\n",
              "      <td>Another 48 Starlinks just reached orbit https:...</td>\n",
              "      <td>146392</td>\n",
              "      <td>2022-03-09 14:01:23</td>\n",
              "    </tr>\n",
              "    <tr>\n",
              "      <th>16</th>\n",
              "      <td>@BBCScienceNews Cool</td>\n",
              "      <td>10475</td>\n",
              "      <td>2022-03-09 07:19:03</td>\n",
              "    </tr>\n",
              "    <tr>\n",
              "      <th>17</th>\n",
              "      <td>https://t.co/e3kFCmREaC</td>\n",
              "      <td>609371</td>\n",
              "      <td>2022-03-09 06:47:17</td>\n",
              "    </tr>\n",
              "    <tr>\n",
              "      <th>18</th>\n",
              "      <td>@wintonARK @pmarca ESG should be deleted if no...</td>\n",
              "      <td>4217</td>\n",
              "      <td>2022-03-08 18:26:28</td>\n",
              "    </tr>\n",
              "    <tr>\n",
              "      <th>19</th>\n",
              "      <td>@pmarca ESG rules have been twisted to insanity</td>\n",
              "      <td>12729</td>\n",
              "      <td>2022-03-08 13:54:58</td>\n",
              "    </tr>\n",
              "  </tbody>\n",
              "</table>\n",
              "</div>\n",
              "      <button class=\"colab-df-convert\" onclick=\"convertToInteractive('df-5791b877-b50e-4983-a988-e8839b255b64')\"\n",
              "              title=\"Convert this dataframe to an interactive table.\"\n",
              "              style=\"display:none;\">\n",
              "        \n",
              "  <svg xmlns=\"http://www.w3.org/2000/svg\" height=\"24px\"viewBox=\"0 0 24 24\"\n",
              "       width=\"24px\">\n",
              "    <path d=\"M0 0h24v24H0V0z\" fill=\"none\"/>\n",
              "    <path d=\"M18.56 5.44l.94 2.06.94-2.06 2.06-.94-2.06-.94-.94-2.06-.94 2.06-2.06.94zm-11 1L8.5 8.5l.94-2.06 2.06-.94-2.06-.94L8.5 2.5l-.94 2.06-2.06.94zm10 10l.94 2.06.94-2.06 2.06-.94-2.06-.94-.94-2.06-.94 2.06-2.06.94z\"/><path d=\"M17.41 7.96l-1.37-1.37c-.4-.4-.92-.59-1.43-.59-.52 0-1.04.2-1.43.59L10.3 9.45l-7.72 7.72c-.78.78-.78 2.05 0 2.83L4 21.41c.39.39.9.59 1.41.59.51 0 1.02-.2 1.41-.59l7.78-7.78 2.81-2.81c.8-.78.8-2.07 0-2.86zM5.41 20L4 18.59l7.72-7.72 1.47 1.35L5.41 20z\"/>\n",
              "  </svg>\n",
              "      </button>\n",
              "      \n",
              "  <style>\n",
              "    .colab-df-container {\n",
              "      display:flex;\n",
              "      flex-wrap:wrap;\n",
              "      gap: 12px;\n",
              "    }\n",
              "\n",
              "    .colab-df-convert {\n",
              "      background-color: #E8F0FE;\n",
              "      border: none;\n",
              "      border-radius: 50%;\n",
              "      cursor: pointer;\n",
              "      display: none;\n",
              "      fill: #1967D2;\n",
              "      height: 32px;\n",
              "      padding: 0 0 0 0;\n",
              "      width: 32px;\n",
              "    }\n",
              "\n",
              "    .colab-df-convert:hover {\n",
              "      background-color: #E2EBFA;\n",
              "      box-shadow: 0px 1px 2px rgba(60, 64, 67, 0.3), 0px 1px 3px 1px rgba(60, 64, 67, 0.15);\n",
              "      fill: #174EA6;\n",
              "    }\n",
              "\n",
              "    [theme=dark] .colab-df-convert {\n",
              "      background-color: #3B4455;\n",
              "      fill: #D2E3FC;\n",
              "    }\n",
              "\n",
              "    [theme=dark] .colab-df-convert:hover {\n",
              "      background-color: #434B5C;\n",
              "      box-shadow: 0px 1px 3px 1px rgba(0, 0, 0, 0.15);\n",
              "      filter: drop-shadow(0px 1px 2px rgba(0, 0, 0, 0.3));\n",
              "      fill: #FFFFFF;\n",
              "    }\n",
              "  </style>\n",
              "\n",
              "      <script>\n",
              "        const buttonEl =\n",
              "          document.querySelector('#df-5791b877-b50e-4983-a988-e8839b255b64 button.colab-df-convert');\n",
              "        buttonEl.style.display =\n",
              "          google.colab.kernel.accessAllowed ? 'block' : 'none';\n",
              "\n",
              "        async function convertToInteractive(key) {\n",
              "          const element = document.querySelector('#df-5791b877-b50e-4983-a988-e8839b255b64');\n",
              "          const dataTable =\n",
              "            await google.colab.kernel.invokeFunction('convertToInteractive',\n",
              "                                                     [key], {});\n",
              "          if (!dataTable) return;\n",
              "\n",
              "          const docLinkHtml = 'Like what you see? Visit the ' +\n",
              "            '<a target=\"_blank\" href=https://colab.research.google.com/notebooks/data_table.ipynb>data table notebook</a>'\n",
              "            + ' to learn more about interactive tables.';\n",
              "          element.innerHTML = '';\n",
              "          dataTable['output_type'] = 'display_data';\n",
              "          await google.colab.output.renderOutput(dataTable, element);\n",
              "          const docLink = document.createElement('div');\n",
              "          docLink.innerHTML = docLinkHtml;\n",
              "          element.appendChild(docLink);\n",
              "        }\n",
              "      </script>\n",
              "    </div>\n",
              "  </div>\n",
              "  "
            ]
          },
          "metadata": {},
          "execution_count": 11
        }
      ],
      "source": [
        "df"
      ]
    },
    {
      "cell_type": "markdown",
      "source": [
        "**Remove Retweets**"
      ],
      "metadata": {
        "id": "qUtJDEDIKFgi"
      }
    },
    {
      "cell_type": "code",
      "execution_count": 12,
      "metadata": {
        "id": "q_b6Tgt6W6wA"
      },
      "outputs": [],
      "source": [
        "df = df[~df.tweets.str.contains(\"RT\")]"
      ]
    },
    {
      "cell_type": "code",
      "execution_count": 13,
      "metadata": {
        "id": "VzpemMq-W-rE"
      },
      "outputs": [],
      "source": [
        "df=df.reset_index(drop=True)"
      ]
    },
    {
      "cell_type": "code",
      "execution_count": 14,
      "metadata": {
        "colab": {
          "base_uri": "https://localhost:8080/",
          "height": 676
        },
        "id": "NcaYHguNXC_a",
        "outputId": "1c569ff2-906f-4dad-e79e-4ea1c10e811f"
      },
      "outputs": [
        {
          "output_type": "execute_result",
          "data": {
            "text/plain": [
              "                                               tweets   likes  \\\n",
              "0   @SirineAti @EvaFoxU The Story of Civilization,...    3150   \n",
              "1   @EvaFoxU Insightful analysis, ensconced in elo...    6098   \n",
              "2               Fifteen Decisive Battles of the World   66743   \n",
              "3   @RationalEtienne @archaeologyart @HardcoreHist...    3322   \n",
              "4           @PPathole @SpaceX Me encanta el mariachi!   71108   \n",
              "5   @archaeologyart @HardcoreHistory The Forbidden...   10073   \n",
              "6   @haltman Little do they know, birds aren’t rea...   19479   \n",
              "7   @waitbutwhy What if one atom at a time in your...   38896   \n",
              "8   @WholeMarsBlog @Erdayastronaut @CopSub This we...    3682   \n",
              "9   @FedorovMykhailo @OMarkarova You’re welcome. W...   41521   \n",
              "10  @PPathole @SpaceX Optimized, fully-reusable St...   12679   \n",
              "11  @Erdayastronaut @CopSub In our experience, COP...    5465   \n",
              "12  @Kristennetten @BBCScienceNews There is no dir...    3204   \n",
              "13  @EvaFoxU Very important that there be an organ...   14518   \n",
              "14                                   @ashleevance Wow   14472   \n",
              "15  Another 48 Starlinks just reached orbit https:...  146392   \n",
              "16                               @BBCScienceNews Cool   10475   \n",
              "17                            https://t.co/e3kFCmREaC  609371   \n",
              "18  @wintonARK @pmarca ESG should be deleted if no...    4217   \n",
              "19    @pmarca ESG rules have been twisted to insanity   12729   \n",
              "\n",
              "                  time  \n",
              "0  2022-03-13 11:12:31  \n",
              "1  2022-03-13 11:06:30  \n",
              "2  2022-03-13 11:02:24  \n",
              "3  2022-03-12 19:42:46  \n",
              "4  2022-03-12 18:16:01  \n",
              "5  2022-03-12 09:32:34  \n",
              "6  2022-03-11 19:41:28  \n",
              "7  2022-03-11 00:31:09  \n",
              "8  2022-03-10 05:44:23  \n",
              "9  2022-03-09 21:49:49  \n",
              "10 2022-03-09 21:41:57  \n",
              "11 2022-03-09 21:36:46  \n",
              "12 2022-03-09 19:29:56  \n",
              "13 2022-03-09 19:27:00  \n",
              "14 2022-03-09 19:18:27  \n",
              "15 2022-03-09 14:01:23  \n",
              "16 2022-03-09 07:19:03  \n",
              "17 2022-03-09 06:47:17  \n",
              "18 2022-03-08 18:26:28  \n",
              "19 2022-03-08 13:54:58  "
            ],
            "text/html": [
              "\n",
              "  <div id=\"df-ab3060ed-851d-4a0b-b54f-9ed9075c307d\">\n",
              "    <div class=\"colab-df-container\">\n",
              "      <div>\n",
              "<style scoped>\n",
              "    .dataframe tbody tr th:only-of-type {\n",
              "        vertical-align: middle;\n",
              "    }\n",
              "\n",
              "    .dataframe tbody tr th {\n",
              "        vertical-align: top;\n",
              "    }\n",
              "\n",
              "    .dataframe thead th {\n",
              "        text-align: right;\n",
              "    }\n",
              "</style>\n",
              "<table border=\"1\" class=\"dataframe\">\n",
              "  <thead>\n",
              "    <tr style=\"text-align: right;\">\n",
              "      <th></th>\n",
              "      <th>tweets</th>\n",
              "      <th>likes</th>\n",
              "      <th>time</th>\n",
              "    </tr>\n",
              "  </thead>\n",
              "  <tbody>\n",
              "    <tr>\n",
              "      <th>0</th>\n",
              "      <td>@SirineAti @EvaFoxU The Story of Civilization,...</td>\n",
              "      <td>3150</td>\n",
              "      <td>2022-03-13 11:12:31</td>\n",
              "    </tr>\n",
              "    <tr>\n",
              "      <th>1</th>\n",
              "      <td>@EvaFoxU Insightful analysis, ensconced in elo...</td>\n",
              "      <td>6098</td>\n",
              "      <td>2022-03-13 11:06:30</td>\n",
              "    </tr>\n",
              "    <tr>\n",
              "      <th>2</th>\n",
              "      <td>Fifteen Decisive Battles of the World</td>\n",
              "      <td>66743</td>\n",
              "      <td>2022-03-13 11:02:24</td>\n",
              "    </tr>\n",
              "    <tr>\n",
              "      <th>3</th>\n",
              "      <td>@RationalEtienne @archaeologyart @HardcoreHist...</td>\n",
              "      <td>3322</td>\n",
              "      <td>2022-03-12 19:42:46</td>\n",
              "    </tr>\n",
              "    <tr>\n",
              "      <th>4</th>\n",
              "      <td>@PPathole @SpaceX Me encanta el mariachi!</td>\n",
              "      <td>71108</td>\n",
              "      <td>2022-03-12 18:16:01</td>\n",
              "    </tr>\n",
              "    <tr>\n",
              "      <th>5</th>\n",
              "      <td>@archaeologyart @HardcoreHistory The Forbidden...</td>\n",
              "      <td>10073</td>\n",
              "      <td>2022-03-12 09:32:34</td>\n",
              "    </tr>\n",
              "    <tr>\n",
              "      <th>6</th>\n",
              "      <td>@haltman Little do they know, birds aren’t rea...</td>\n",
              "      <td>19479</td>\n",
              "      <td>2022-03-11 19:41:28</td>\n",
              "    </tr>\n",
              "    <tr>\n",
              "      <th>7</th>\n",
              "      <td>@waitbutwhy What if one atom at a time in your...</td>\n",
              "      <td>38896</td>\n",
              "      <td>2022-03-11 00:31:09</td>\n",
              "    </tr>\n",
              "    <tr>\n",
              "      <th>8</th>\n",
              "      <td>@WholeMarsBlog @Erdayastronaut @CopSub This we...</td>\n",
              "      <td>3682</td>\n",
              "      <td>2022-03-10 05:44:23</td>\n",
              "    </tr>\n",
              "    <tr>\n",
              "      <th>9</th>\n",
              "      <td>@FedorovMykhailo @OMarkarova You’re welcome. W...</td>\n",
              "      <td>41521</td>\n",
              "      <td>2022-03-09 21:49:49</td>\n",
              "    </tr>\n",
              "    <tr>\n",
              "      <th>10</th>\n",
              "      <td>@PPathole @SpaceX Optimized, fully-reusable St...</td>\n",
              "      <td>12679</td>\n",
              "      <td>2022-03-09 21:41:57</td>\n",
              "    </tr>\n",
              "    <tr>\n",
              "      <th>11</th>\n",
              "      <td>@Erdayastronaut @CopSub In our experience, COP...</td>\n",
              "      <td>5465</td>\n",
              "      <td>2022-03-09 21:36:46</td>\n",
              "    </tr>\n",
              "    <tr>\n",
              "      <th>12</th>\n",
              "      <td>@Kristennetten @BBCScienceNews There is no dir...</td>\n",
              "      <td>3204</td>\n",
              "      <td>2022-03-09 19:29:56</td>\n",
              "    </tr>\n",
              "    <tr>\n",
              "      <th>13</th>\n",
              "      <td>@EvaFoxU Very important that there be an organ...</td>\n",
              "      <td>14518</td>\n",
              "      <td>2022-03-09 19:27:00</td>\n",
              "    </tr>\n",
              "    <tr>\n",
              "      <th>14</th>\n",
              "      <td>@ashleevance Wow</td>\n",
              "      <td>14472</td>\n",
              "      <td>2022-03-09 19:18:27</td>\n",
              "    </tr>\n",
              "    <tr>\n",
              "      <th>15</th>\n",
              "      <td>Another 48 Starlinks just reached orbit https:...</td>\n",
              "      <td>146392</td>\n",
              "      <td>2022-03-09 14:01:23</td>\n",
              "    </tr>\n",
              "    <tr>\n",
              "      <th>16</th>\n",
              "      <td>@BBCScienceNews Cool</td>\n",
              "      <td>10475</td>\n",
              "      <td>2022-03-09 07:19:03</td>\n",
              "    </tr>\n",
              "    <tr>\n",
              "      <th>17</th>\n",
              "      <td>https://t.co/e3kFCmREaC</td>\n",
              "      <td>609371</td>\n",
              "      <td>2022-03-09 06:47:17</td>\n",
              "    </tr>\n",
              "    <tr>\n",
              "      <th>18</th>\n",
              "      <td>@wintonARK @pmarca ESG should be deleted if no...</td>\n",
              "      <td>4217</td>\n",
              "      <td>2022-03-08 18:26:28</td>\n",
              "    </tr>\n",
              "    <tr>\n",
              "      <th>19</th>\n",
              "      <td>@pmarca ESG rules have been twisted to insanity</td>\n",
              "      <td>12729</td>\n",
              "      <td>2022-03-08 13:54:58</td>\n",
              "    </tr>\n",
              "  </tbody>\n",
              "</table>\n",
              "</div>\n",
              "      <button class=\"colab-df-convert\" onclick=\"convertToInteractive('df-ab3060ed-851d-4a0b-b54f-9ed9075c307d')\"\n",
              "              title=\"Convert this dataframe to an interactive table.\"\n",
              "              style=\"display:none;\">\n",
              "        \n",
              "  <svg xmlns=\"http://www.w3.org/2000/svg\" height=\"24px\"viewBox=\"0 0 24 24\"\n",
              "       width=\"24px\">\n",
              "    <path d=\"M0 0h24v24H0V0z\" fill=\"none\"/>\n",
              "    <path d=\"M18.56 5.44l.94 2.06.94-2.06 2.06-.94-2.06-.94-.94-2.06-.94 2.06-2.06.94zm-11 1L8.5 8.5l.94-2.06 2.06-.94-2.06-.94L8.5 2.5l-.94 2.06-2.06.94zm10 10l.94 2.06.94-2.06 2.06-.94-2.06-.94-.94-2.06-.94 2.06-2.06.94z\"/><path d=\"M17.41 7.96l-1.37-1.37c-.4-.4-.92-.59-1.43-.59-.52 0-1.04.2-1.43.59L10.3 9.45l-7.72 7.72c-.78.78-.78 2.05 0 2.83L4 21.41c.39.39.9.59 1.41.59.51 0 1.02-.2 1.41-.59l7.78-7.78 2.81-2.81c.8-.78.8-2.07 0-2.86zM5.41 20L4 18.59l7.72-7.72 1.47 1.35L5.41 20z\"/>\n",
              "  </svg>\n",
              "      </button>\n",
              "      \n",
              "  <style>\n",
              "    .colab-df-container {\n",
              "      display:flex;\n",
              "      flex-wrap:wrap;\n",
              "      gap: 12px;\n",
              "    }\n",
              "\n",
              "    .colab-df-convert {\n",
              "      background-color: #E8F0FE;\n",
              "      border: none;\n",
              "      border-radius: 50%;\n",
              "      cursor: pointer;\n",
              "      display: none;\n",
              "      fill: #1967D2;\n",
              "      height: 32px;\n",
              "      padding: 0 0 0 0;\n",
              "      width: 32px;\n",
              "    }\n",
              "\n",
              "    .colab-df-convert:hover {\n",
              "      background-color: #E2EBFA;\n",
              "      box-shadow: 0px 1px 2px rgba(60, 64, 67, 0.3), 0px 1px 3px 1px rgba(60, 64, 67, 0.15);\n",
              "      fill: #174EA6;\n",
              "    }\n",
              "\n",
              "    [theme=dark] .colab-df-convert {\n",
              "      background-color: #3B4455;\n",
              "      fill: #D2E3FC;\n",
              "    }\n",
              "\n",
              "    [theme=dark] .colab-df-convert:hover {\n",
              "      background-color: #434B5C;\n",
              "      box-shadow: 0px 1px 3px 1px rgba(0, 0, 0, 0.15);\n",
              "      filter: drop-shadow(0px 1px 2px rgba(0, 0, 0, 0.3));\n",
              "      fill: #FFFFFF;\n",
              "    }\n",
              "  </style>\n",
              "\n",
              "      <script>\n",
              "        const buttonEl =\n",
              "          document.querySelector('#df-ab3060ed-851d-4a0b-b54f-9ed9075c307d button.colab-df-convert');\n",
              "        buttonEl.style.display =\n",
              "          google.colab.kernel.accessAllowed ? 'block' : 'none';\n",
              "\n",
              "        async function convertToInteractive(key) {\n",
              "          const element = document.querySelector('#df-ab3060ed-851d-4a0b-b54f-9ed9075c307d');\n",
              "          const dataTable =\n",
              "            await google.colab.kernel.invokeFunction('convertToInteractive',\n",
              "                                                     [key], {});\n",
              "          if (!dataTable) return;\n",
              "\n",
              "          const docLinkHtml = 'Like what you see? Visit the ' +\n",
              "            '<a target=\"_blank\" href=https://colab.research.google.com/notebooks/data_table.ipynb>data table notebook</a>'\n",
              "            + ' to learn more about interactive tables.';\n",
              "          element.innerHTML = '';\n",
              "          dataTable['output_type'] = 'display_data';\n",
              "          await google.colab.output.renderOutput(dataTable, element);\n",
              "          const docLink = document.createElement('div');\n",
              "          docLink.innerHTML = docLinkHtml;\n",
              "          element.appendChild(docLink);\n",
              "        }\n",
              "      </script>\n",
              "    </div>\n",
              "  </div>\n",
              "  "
            ]
          },
          "metadata": {},
          "execution_count": 14
        }
      ],
      "source": [
        "df"
      ]
    },
    {
      "cell_type": "markdown",
      "source": [
        "**Most liked Tweeets**"
      ],
      "metadata": {
        "id": "BTRFvhxaKLkF"
      }
    },
    {
      "cell_type": "code",
      "execution_count": 15,
      "metadata": {
        "id": "KEadbzEkXF_v"
      },
      "outputs": [],
      "source": [
        "mostlike = df.loc[df.likes.nlargest(5).index]"
      ]
    },
    {
      "cell_type": "code",
      "execution_count": 16,
      "metadata": {
        "colab": {
          "base_uri": "https://localhost:8080/",
          "height": 206
        },
        "id": "eeq7R4gtXI64",
        "outputId": "1c17e34b-f60f-4cb2-eed6-96238d54e270"
      },
      "outputs": [
        {
          "output_type": "execute_result",
          "data": {
            "text/plain": [
              "                                               tweets   likes  \\\n",
              "17                            https://t.co/e3kFCmREaC  609371   \n",
              "15  Another 48 Starlinks just reached orbit https:...  146392   \n",
              "4           @PPathole @SpaceX Me encanta el mariachi!   71108   \n",
              "2               Fifteen Decisive Battles of the World   66743   \n",
              "9   @FedorovMykhailo @OMarkarova You’re welcome. W...   41521   \n",
              "\n",
              "                  time  \n",
              "17 2022-03-09 06:47:17  \n",
              "15 2022-03-09 14:01:23  \n",
              "4  2022-03-12 18:16:01  \n",
              "2  2022-03-13 11:02:24  \n",
              "9  2022-03-09 21:49:49  "
            ],
            "text/html": [
              "\n",
              "  <div id=\"df-d09d24c7-8ac0-46da-8bc0-dd81bb81f7b4\">\n",
              "    <div class=\"colab-df-container\">\n",
              "      <div>\n",
              "<style scoped>\n",
              "    .dataframe tbody tr th:only-of-type {\n",
              "        vertical-align: middle;\n",
              "    }\n",
              "\n",
              "    .dataframe tbody tr th {\n",
              "        vertical-align: top;\n",
              "    }\n",
              "\n",
              "    .dataframe thead th {\n",
              "        text-align: right;\n",
              "    }\n",
              "</style>\n",
              "<table border=\"1\" class=\"dataframe\">\n",
              "  <thead>\n",
              "    <tr style=\"text-align: right;\">\n",
              "      <th></th>\n",
              "      <th>tweets</th>\n",
              "      <th>likes</th>\n",
              "      <th>time</th>\n",
              "    </tr>\n",
              "  </thead>\n",
              "  <tbody>\n",
              "    <tr>\n",
              "      <th>17</th>\n",
              "      <td>https://t.co/e3kFCmREaC</td>\n",
              "      <td>609371</td>\n",
              "      <td>2022-03-09 06:47:17</td>\n",
              "    </tr>\n",
              "    <tr>\n",
              "      <th>15</th>\n",
              "      <td>Another 48 Starlinks just reached orbit https:...</td>\n",
              "      <td>146392</td>\n",
              "      <td>2022-03-09 14:01:23</td>\n",
              "    </tr>\n",
              "    <tr>\n",
              "      <th>4</th>\n",
              "      <td>@PPathole @SpaceX Me encanta el mariachi!</td>\n",
              "      <td>71108</td>\n",
              "      <td>2022-03-12 18:16:01</td>\n",
              "    </tr>\n",
              "    <tr>\n",
              "      <th>2</th>\n",
              "      <td>Fifteen Decisive Battles of the World</td>\n",
              "      <td>66743</td>\n",
              "      <td>2022-03-13 11:02:24</td>\n",
              "    </tr>\n",
              "    <tr>\n",
              "      <th>9</th>\n",
              "      <td>@FedorovMykhailo @OMarkarova You’re welcome. W...</td>\n",
              "      <td>41521</td>\n",
              "      <td>2022-03-09 21:49:49</td>\n",
              "    </tr>\n",
              "  </tbody>\n",
              "</table>\n",
              "</div>\n",
              "      <button class=\"colab-df-convert\" onclick=\"convertToInteractive('df-d09d24c7-8ac0-46da-8bc0-dd81bb81f7b4')\"\n",
              "              title=\"Convert this dataframe to an interactive table.\"\n",
              "              style=\"display:none;\">\n",
              "        \n",
              "  <svg xmlns=\"http://www.w3.org/2000/svg\" height=\"24px\"viewBox=\"0 0 24 24\"\n",
              "       width=\"24px\">\n",
              "    <path d=\"M0 0h24v24H0V0z\" fill=\"none\"/>\n",
              "    <path d=\"M18.56 5.44l.94 2.06.94-2.06 2.06-.94-2.06-.94-.94-2.06-.94 2.06-2.06.94zm-11 1L8.5 8.5l.94-2.06 2.06-.94-2.06-.94L8.5 2.5l-.94 2.06-2.06.94zm10 10l.94 2.06.94-2.06 2.06-.94-2.06-.94-.94-2.06-.94 2.06-2.06.94z\"/><path d=\"M17.41 7.96l-1.37-1.37c-.4-.4-.92-.59-1.43-.59-.52 0-1.04.2-1.43.59L10.3 9.45l-7.72 7.72c-.78.78-.78 2.05 0 2.83L4 21.41c.39.39.9.59 1.41.59.51 0 1.02-.2 1.41-.59l7.78-7.78 2.81-2.81c.8-.78.8-2.07 0-2.86zM5.41 20L4 18.59l7.72-7.72 1.47 1.35L5.41 20z\"/>\n",
              "  </svg>\n",
              "      </button>\n",
              "      \n",
              "  <style>\n",
              "    .colab-df-container {\n",
              "      display:flex;\n",
              "      flex-wrap:wrap;\n",
              "      gap: 12px;\n",
              "    }\n",
              "\n",
              "    .colab-df-convert {\n",
              "      background-color: #E8F0FE;\n",
              "      border: none;\n",
              "      border-radius: 50%;\n",
              "      cursor: pointer;\n",
              "      display: none;\n",
              "      fill: #1967D2;\n",
              "      height: 32px;\n",
              "      padding: 0 0 0 0;\n",
              "      width: 32px;\n",
              "    }\n",
              "\n",
              "    .colab-df-convert:hover {\n",
              "      background-color: #E2EBFA;\n",
              "      box-shadow: 0px 1px 2px rgba(60, 64, 67, 0.3), 0px 1px 3px 1px rgba(60, 64, 67, 0.15);\n",
              "      fill: #174EA6;\n",
              "    }\n",
              "\n",
              "    [theme=dark] .colab-df-convert {\n",
              "      background-color: #3B4455;\n",
              "      fill: #D2E3FC;\n",
              "    }\n",
              "\n",
              "    [theme=dark] .colab-df-convert:hover {\n",
              "      background-color: #434B5C;\n",
              "      box-shadow: 0px 1px 3px 1px rgba(0, 0, 0, 0.15);\n",
              "      filter: drop-shadow(0px 1px 2px rgba(0, 0, 0, 0.3));\n",
              "      fill: #FFFFFF;\n",
              "    }\n",
              "  </style>\n",
              "\n",
              "      <script>\n",
              "        const buttonEl =\n",
              "          document.querySelector('#df-d09d24c7-8ac0-46da-8bc0-dd81bb81f7b4 button.colab-df-convert');\n",
              "        buttonEl.style.display =\n",
              "          google.colab.kernel.accessAllowed ? 'block' : 'none';\n",
              "\n",
              "        async function convertToInteractive(key) {\n",
              "          const element = document.querySelector('#df-d09d24c7-8ac0-46da-8bc0-dd81bb81f7b4');\n",
              "          const dataTable =\n",
              "            await google.colab.kernel.invokeFunction('convertToInteractive',\n",
              "                                                     [key], {});\n",
              "          if (!dataTable) return;\n",
              "\n",
              "          const docLinkHtml = 'Like what you see? Visit the ' +\n",
              "            '<a target=\"_blank\" href=https://colab.research.google.com/notebooks/data_table.ipynb>data table notebook</a>'\n",
              "            + ' to learn more about interactive tables.';\n",
              "          element.innerHTML = '';\n",
              "          dataTable['output_type'] = 'display_data';\n",
              "          await google.colab.output.renderOutput(dataTable, element);\n",
              "          const docLink = document.createElement('div');\n",
              "          docLink.innerHTML = docLinkHtml;\n",
              "          element.appendChild(docLink);\n",
              "        }\n",
              "      </script>\n",
              "    </div>\n",
              "  </div>\n",
              "  "
            ]
          },
          "metadata": {},
          "execution_count": 16
        }
      ],
      "source": [
        "mostlike"
      ]
    },
    {
      "cell_type": "code",
      "execution_count": 17,
      "metadata": {
        "colab": {
          "base_uri": "https://localhost:8080/"
        },
        "id": "CR8YrpBUXLMk",
        "outputId": "8e13fbdc-1d7c-46bb-d08f-ab88a1f7ba54"
      },
      "outputs": [
        {
          "output_type": "stream",
          "name": "stdout",
          "text": [
            "\u001b[38;5;2m✔ Download and installation successful\u001b[0m\n",
            "You can now load the model via spacy.load('en_core_web_lg')\n"
          ]
        }
      ],
      "source": [
        "import matplotlib.pyplot as plt\n",
        "import re\n",
        "import spacy.cli\n",
        "spacy.cli.download(\"en_core_web_lg\")\n",
        "nlp = spacy.load('en_core_web_lg')\n",
        "import seaborn as sns"
      ]
    },
    {
      "cell_type": "code",
      "execution_count": 18,
      "metadata": {
        "id": "5fjoPOgwXUoq"
      },
      "outputs": [],
      "source": [
        "list_of_sentences = [sentence for sentence in df.tweets]\n",
        "\n",
        "lines = []\n",
        "for sentence in list_of_sentences:\n",
        "  words = sentence.split()\n",
        "  for w in words:\n",
        "    lines.append(w)"
      ]
    },
    {
      "cell_type": "markdown",
      "source": [
        "**Removing Special Character**"
      ],
      "metadata": {
        "id": "gqNTiEYFKSGv"
      }
    },
    {
      "cell_type": "code",
      "execution_count": 19,
      "metadata": {
        "id": "PLkyTGbCXXsN"
      },
      "outputs": [],
      "source": [
        "for i in range(len(lines)):\n",
        "    lines[i] = lines[i].lower()\n",
        "lines = [re.sub(r'[^A-Za-z0-9]+','',x) for x in lines]\n",
        "\n",
        "lines2 = []\n",
        "\n",
        "for word in lines:\n",
        "  if word != '':\n",
        "    lines2.append(word)"
      ]
    },
    {
      "cell_type": "code",
      "execution_count": 20,
      "metadata": {
        "id": "YZFosFQVXazs"
      },
      "outputs": [],
      "source": [
        "from nltk.stem.snowball import SnowballStemmer\n",
        "\n",
        "s_stemmer = SnowballStemmer(language = 'english')\n",
        "stem = []\n",
        "for word in lines2:\n",
        "  stem.append(s_stemmer.stem(word))"
      ]
    },
    {
      "cell_type": "code",
      "execution_count": 21,
      "metadata": {
        "id": "Cv75P-_JXd0p"
      },
      "outputs": [],
      "source": [
        "stem2 = []\n",
        "for word in stem:\n",
        "  if word not in nlp.Defaults.stop_words:\n",
        "    stem2.append(word)"
      ]
    },
    {
      "cell_type": "code",
      "execution_count": 22,
      "metadata": {
        "id": "nda0D8xfXgiH"
      },
      "outputs": [],
      "source": [
        "df2 = pd.DataFrame(stem2)\n",
        "df2 = df2[0].value_counts()"
      ]
    },
    {
      "cell_type": "markdown",
      "source": [
        "**Plotting Graph for most used words**"
      ],
      "metadata": {
        "id": "OAi6heWcKb5_"
      }
    },
    {
      "cell_type": "code",
      "execution_count": 23,
      "metadata": {
        "id": "mPQzEttsXjC1",
        "colab": {
          "base_uri": "https://localhost:8080/",
          "height": 408
        },
        "outputId": "c75981b5-2618-4bcc-b9ee-02479de5ab8a"
      },
      "outputs": [
        {
          "output_type": "stream",
          "name": "stderr",
          "text": [
            "/usr/local/lib/python3.7/dist-packages/seaborn/_decorators.py:43: FutureWarning: Pass the following variables as keyword args: x, y. From version 0.12, the only valid positional argument will be `data`, and passing other arguments without an explicit keyword will result in an error or misinterpretation.\n",
            "  FutureWarning\n"
          ]
        },
        {
          "output_type": "display_data",
          "data": {
            "text/plain": [
              "<Figure size 720x360 with 1 Axes>"
            ],
            "image/png": "[encoded data removed]"
          },
          "metadata": {
            "needs_background": "light"
          }
        }
      ],
      "source": [
        "df2 = df2[:20,]\n",
        "plt.figure(figsize=(10,5))\n",
        "sns.barplot(df2.values, df2.index, alpha=1)\n",
        "plt.title('Top words Overall')\n",
        "plt.ylabel('Word from Tweet',fontsize=12)\n",
        "plt.xlabel('Count of Words',fontsize=12)\n",
        "plt.show()"
      ]
    },
    {
      "cell_type": "markdown",
      "source": [
        "**Top mentioned person name in Elon Musk tweets**"
      ],
      "metadata": {
        "id": "YjoFXbkGKjDC"
      }
    },
    {
      "cell_type": "code",
      "execution_count": 24,
      "metadata": {
        "id": "eQQPEmZbXoB9"
      },
      "outputs": [],
      "source": [
        "str1 = \" \"\n",
        "stem2 = str1.join(lines2)\n",
        "stem2 = nlp(stem2)\n",
        "label = [(X.text, X.label_) for X in stem2.ents]\n",
        "df10 = pd.DataFrame(label, columns = ['Word', 'Entity'])\n",
        "df10 = df10.where(df10['Entity'] == 'PERSON')\n",
        "df11 = df10['Word'].value_counts()"
      ]
    },
    {
      "cell_type": "code",
      "execution_count": 25,
      "metadata": {
        "id": "O6oNWGHMXrhb",
        "colab": {
          "base_uri": "https://localhost:8080/",
          "height": 408
        },
        "outputId": "e580fa77-4d5b-49a8-90e5-4a4a2c8733d6"
      },
      "outputs": [
        {
          "output_type": "stream",
          "name": "stderr",
          "text": [
            "/usr/local/lib/python3.7/dist-packages/seaborn/_decorators.py:43: FutureWarning: Pass the following variables as keyword args: x, y. From version 0.12, the only valid positional argument will be `data`, and passing other arguments without an explicit keyword will result in an error or misinterpretation.\n",
            "  FutureWarning\n"
          ]
        },
        {
          "output_type": "display_data",
          "data": {
            "text/plain": [
              "<Figure size 720x360 with 1 Axes>"
            ],
            "image/png": "[encoded data removed]"
          },
          "metadata": {
            "needs_background": "light"
          }
        }
      ],
      "source": [
        "dfy = df11[:20,]\n",
        "plt.figure(figsize=(10,5))\n",
        "sns.barplot(dfy.values, dfy.index, alpha=1)\n",
        "plt.title('Top people mentioned')\n",
        "plt.ylabel('Word from Tweet',fontsize=12)\n",
        "plt.xlabel('Count of Words',fontsize=12)\n",
        "plt.show()"
      ]
    }
  ],
  "metadata": {
    "colab": {
      "collapsed_sections": [],
      "name": "Experiment-02.ipynb",
      "provenance": [],
      "authorship_tag": "ABX9TyP9BHQATu+qKicd1wXWG+nG",
      "include_colab_link": true
    },
    "kernelspec": {
      "display_name": "Python 3",
      "name": "python3"
    },
    "language_info": {
      "name": "python"
    }
  },
  "nbformat": 4,
  "nbformat_minor": 0
}