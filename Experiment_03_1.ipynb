{
  "cells": [
    {
      "cell_type": "markdown",
      "metadata": {
        "id": "view-in-github",
        "colab_type": "text"
      },
      "source": [
        "<a href=\"https://colab.research.google.com/github/Shivani-saran/Social-Analytics-Web-Development_Lab/blob/main/Experiment_03_1.ipynb\" target=\"_parent\"><img src=\"https://colab.research.google.com/assets/colab-badge.svg\" alt=\"Open In Colab\"/></a>"
      ]
    },
    {
      "cell_type": "code",
      "source": [
        "print(\"SHIVANI SARAN_500075219\")"
      ],
      "metadata": {
        "colab": {
          "base_uri": "https://localhost:8080/"
        },
        "id": "Y6hBT2gUMe88",
        "outputId": "e50f569a-bfd2-4ca6-aed9-2292776754e9"
      },
      "execution_count": null,
      "outputs": [
        {
          "output_type": "stream",
          "name": "stdout",
          "text": [
            "SHIVANI SARAN_500075219\n"
          ]
        }
      ]
    },
    {
      "cell_type": "markdown",
      "source": [
        "1) calculate word count of a given word. 2) Show top 10 frequent words with their frequency. steps 1) preprocessing 1.1) Case folding 1.2) remove URL's 1.3) Remove stopwords 1.4) tokenization 1.5) lemmatization"
      ],
      "metadata": {
        "id": "y7NuqDS9Zdik"
      }
    },
    {
      "cell_type": "code",
      "execution_count": null,
      "metadata": {
        "colab": {
          "base_uri": "https://localhost:8080/"
        },
        "id": "QXyY_LjM5Cak",
        "outputId": "108032d9-b57e-45cd-ceb9-62d81e689726"
      },
      "outputs": [
        {
          "output_type": "stream",
          "name": "stdout",
          "text": [
            "Requirement already satisfied: tweepy in /usr/local/lib/python3.7/dist-packages (3.10.0)\n",
            "Requirement already satisfied: requests-oauthlib>=0.7.0 in /usr/local/lib/python3.7/dist-packages (from tweepy) (1.3.1)\n",
            "Requirement already satisfied: requests[socks]>=2.11.1 in /usr/local/lib/python3.7/dist-packages (from tweepy) (2.23.0)\n",
            "Requirement already satisfied: six>=1.10.0 in /usr/local/lib/python3.7/dist-packages (from tweepy) (1.15.0)\n",
            "Requirement already satisfied: oauthlib>=3.0.0 in /usr/local/lib/python3.7/dist-packages (from requests-oauthlib>=0.7.0->tweepy) (3.2.0)\n",
            "Requirement already satisfied: idna<3,>=2.5 in /usr/local/lib/python3.7/dist-packages (from requests[socks]>=2.11.1->tweepy) (2.10)\n",
            "Requirement already satisfied: chardet<4,>=3.0.2 in /usr/local/lib/python3.7/dist-packages (from requests[socks]>=2.11.1->tweepy) (3.0.4)\n",
            "Requirement already satisfied: urllib3!=1.25.0,!=1.25.1,<1.26,>=1.21.1 in /usr/local/lib/python3.7/dist-packages (from requests[socks]>=2.11.1->tweepy) (1.24.3)\n",
            "Requirement already satisfied: certifi>=2017.4.17 in /usr/local/lib/python3.7/dist-packages (from requests[socks]>=2.11.1->tweepy) (2021.10.8)\n",
            "Requirement already satisfied: PySocks!=1.5.7,>=1.5.6 in /usr/local/lib/python3.7/dist-packages (from requests[socks]>=2.11.1->tweepy) (1.7.1)\n"
          ]
        }
      ],
      "source": [
        "!pip install tweepy"
      ]
    },
    {
      "cell_type": "code",
      "execution_count": null,
      "metadata": {
        "colab": {
          "base_uri": "https://localhost:8080/"
        },
        "id": "XQ1U25wv5SP9",
        "outputId": "0c69a229-ecd5-4345-89de-687b815540e6"
      },
      "outputs": [
        {
          "output_type": "stream",
          "name": "stdout",
          "text": [
            "Requirement already satisfied: textblob in /usr/local/lib/python3.7/dist-packages (0.15.3)\n",
            "Requirement already satisfied: nltk>=3.1 in /usr/local/lib/python3.7/dist-packages (from textblob) (3.2.5)\n",
            "Requirement already satisfied: six in /usr/local/lib/python3.7/dist-packages (from nltk>=3.1->textblob) (1.15.0)\n"
          ]
        }
      ],
      "source": [
        "!pip install textblob"
      ]
    },
    {
      "cell_type": "code",
      "execution_count": null,
      "metadata": {
        "id": "cyKcnPPTWGKp"
      },
      "outputs": [],
      "source": [
        "import tweepy\n",
        "import pandas as pd"
      ]
    },
    {
      "cell_type": "code",
      "execution_count": null,
      "metadata": {
        "id": "naBS67zv7nHO"
      },
      "outputs": [],
      "source": [
        "consumer_key=\"1J42kbl6Knwpva7wsLv1pBK1X\"\n",
        "consumer_secret=\"lSCoQfcwMJfe3ipVICwsrDLhALkuwyuAko5KFz1BscmvpMbKVK\"\n",
        "access_token=\"1498914827460247555-p8e9GbdYNgwNHh1ohsl31RMOFEJXOr\"\n",
        "access_token_secret=\"oclid72frFFgBOuKZ1wamd0jbRsliSNnFWTGK3Mn33vdW\"\n",
        "auth = tweepy.OAuthHandler(consumer_key, consumer_secret)\n",
        "auth.set_access_token(access_token, access_token_secret)\n",
        "api = tweepy.API(auth)"
      ]
    },
    {
      "cell_type": "markdown",
      "source": [
        "**tweet from Narendra Modi**\n",
        "\n",
        "\n",
        "\n"
      ],
      "metadata": {
        "id": "-pJMMxcvJLvN"
      }
    },
    {
      "cell_type": "code",
      "execution_count": null,
      "metadata": {
        "id": "nZXPuvzAWUw-"
      },
      "outputs": [],
      "source": [
        "cursor = tweepy.Cursor(api.user_timeline, id='narendramodi', tweet_mode=\"extended\").items(1)"
      ]
    },
    {
      "cell_type": "code",
      "execution_count": null,
      "metadata": {
        "id": "eyUVShCPWZ5M",
        "colab": {
          "base_uri": "https://localhost:8080/"
        },
        "outputId": "070cd2eb-2569-412b-de53-d7c86f3016a7"
      },
      "outputs": [
        {
          "output_type": "stream",
          "name": "stdout",
          "text": [
            "ભિલોડાના ધારાસભ્ય ડો. અનિલ જોષીયારાના અવસાનથી દુઃખ થયું. લોકસેવક તરીકે તેઓ સદાય યાદ રહેશે. સદ્ગતના આત્માની શાંતિ માટે પ્રાર્થના તથા શોકગ્રસ્ત પરિવારને સાંત્વના…। \n",
            "ૐ શાંતિ…॥\n"
          ]
        }
      ],
      "source": [
        "for i in cursor:\n",
        "  print(i.full_text)"
      ]
    },
    {
      "cell_type": "markdown",
      "source": [
        "**last 200 tweets from Narendra Modi**"
      ],
      "metadata": {
        "id": "IwYnNybtJsfj"
      }
    },
    {
      "cell_type": "code",
      "execution_count": null,
      "metadata": {
        "id": "x4eydMImWk7v"
      },
      "outputs": [],
      "source": [
        "number_of_tweets = 200\n",
        "tweets = []\n",
        "likes = []\n",
        "time = []\n",
        "\n",
        "for i in tweepy.Cursor(api.user_timeline, id='elonmusk', tweet_mode=\"extended\").items(number_of_tweets):\n",
        "  tweets.append(i.full_text)\n",
        "  likes.append(i.favorite_count)\n",
        "  time.append(i.created_at)"
      ]
    },
    {
      "cell_type": "code",
      "execution_count": null,
      "metadata": {
        "colab": {
          "base_uri": "https://localhost:8080/"
        },
        "id": "tM3B50YGWqtH",
        "outputId": "30fe4c4e-ff4f-4853-d004-2a851b920904"
      },
      "outputs": [
        {
          "output_type": "execute_result",
          "data": {
            "text/plain": [
              "['@Crypto_Altology If Putin could so easily humiliate the west, then he would accept the challenge.\\n\\nBut he will not.',\n",
              " 'Вы согласны на этот бой? @KremlinRussia_E',\n",
              " '@KasiaKomorowicz I am absolutely serious',\n",
              " '@GraceRyanJess это было бы честью',\n",
              " 'I hereby challenge\\nВладимир Путин \\nto single combat\\n\\nStakes are Україна',\n",
              " 'By the pricking of my thumbs …',\n",
              " 'There is a beauty to the biological substrate',\n",
              " '@crypto_birb 🤣',\n",
              " '@BTC_Archive 🤣',\n",
              " 'https://t.co/Gw6xaw1u0N',\n",
              " 'https://t.co/CfoJ3qdCRJ',\n",
              " '@saylor As a general principle, for those looking for advice from this thread, it is generally better to own physical things like a home or stock in companies you think make good products, than dollars when inflation is high.\\n\\nI still own &amp; won’t sell my Bitcoin, Ethereum or Doge fwiw.',\n",
              " '@saylor It is not entirely unpredictable that you would reach that conclusion',\n",
              " '@BLKMDL3 @Tesla Model S &amp; X are sublime',\n",
              " 'And we are not alone https://t.co/1RpsIbGWMl',\n",
              " 'Tesla &amp; SpaceX are seeing significant recent inflation pressure in raw materials &amp; logistics',\n",
              " '@Gfilche @profgalloway 🤣',\n",
              " '@jchybow If this version performs well, we can probably lower min safety score to 95',\n",
              " '@Teslarati @Writer_01001101 Vector lanes is a particularly significant architectural improvement to Tesla AI',\n",
              " 'What are your thoughts about probable inflation rate over next few years?']"
            ]
          },
          "metadata": {},
          "execution_count": 6
        }
      ],
      "source": [
        "tweets"
      ]
    },
    {
      "cell_type": "markdown",
      "source": [
        "**Creating Dataframes**"
      ],
      "metadata": {
        "id": "hmClM9FRJ-1q"
      }
    },
    {
      "cell_type": "code",
      "execution_count": null,
      "metadata": {
        "id": "NtM0Fhn1WvRT"
      },
      "outputs": [],
      "source": [
        "df = pd.DataFrame({'tweets':tweets,'likes':likes,'time':time})"
      ]
    },
    {
      "cell_type": "code",
      "execution_count": null,
      "metadata": {
        "colab": {
          "base_uri": "https://localhost:8080/",
          "height": 676
        },
        "id": "XdXjFreBWzzA",
        "outputId": "e511843b-4053-4637-df1f-c5de09a5b8f2"
      },
      "outputs": [
        {
          "output_type": "execute_result",
          "data": {
            "text/plain": [
              "                                               tweets   likes  \\\n",
              "0   @Crypto_Altology If Putin could so easily humi...    2636   \n",
              "1           Вы согласны на этот бой? @KremlinRussia_E   19581   \n",
              "2            @KasiaKomorowicz I am absolutely serious    7502   \n",
              "3                   @GraceRyanJess это было бы честью    2044   \n",
              "4   I hereby challenge\\nВладимир Путин \\nto single...   87271   \n",
              "5                      By the pricking of my thumbs …   32071   \n",
              "6       There is a beauty to the biological substrate   41460   \n",
              "7                                      @crypto_birb 🤣    9646   \n",
              "8                                      @BTC_Archive 🤣   10368   \n",
              "9                             https://t.co/Gw6xaw1u0N  430078   \n",
              "10                            https://t.co/CfoJ3qdCRJ  264228   \n",
              "11  @saylor As a general principle, for those look...   40308   \n",
              "12  @saylor It is not entirely unpredictable that ...   12372   \n",
              "13        @BLKMDL3 @Tesla Model S &amp; X are sublime    8284   \n",
              "14       And we are not alone https://t.co/1RpsIbGWMl   22845   \n",
              "15  Tesla &amp; SpaceX are seeing significant rece...   48848   \n",
              "16                           @Gfilche @profgalloway 🤣    3418   \n",
              "17  @jchybow If this version performs well, we can...    2642   \n",
              "18  @Teslarati @Writer_01001101 Vector lanes is a ...    4955   \n",
              "19  What are your thoughts about probable inflatio...  128922   \n",
              "\n",
              "                  time  \n",
              "0  2022-03-14 12:24:06  \n",
              "1  2022-03-14 11:53:36  \n",
              "2  2022-03-14 11:46:36  \n",
              "3  2022-03-14 11:20:43  \n",
              "4  2022-03-14 11:09:22  \n",
              "5  2022-03-14 10:47:57  \n",
              "6  2022-03-14 09:42:25  \n",
              "7  2022-03-14 08:46:00  \n",
              "8  2022-03-14 08:41:28  \n",
              "9  2022-03-14 08:31:53  \n",
              "10 2022-03-14 07:48:53  \n",
              "11 2022-03-14 04:11:38  \n",
              "12 2022-03-14 04:00:40  \n",
              "13 2022-03-14 02:39:12  \n",
              "14 2022-03-14 01:48:03  \n",
              "15 2022-03-14 01:41:19  \n",
              "16 2022-03-14 00:55:05  \n",
              "17 2022-03-14 00:50:58  \n",
              "18 2022-03-14 00:48:43  \n",
              "19 2022-03-13 21:39:30  "
            ],
            "text/html": [
              "\n",
              "  <div id=\"df-7d716c4a-e14b-4c29-b581-9d83bded04e9\">\n",
              "    <div class=\"colab-df-container\">\n",
              "      <div>\n",
              "<style scoped>\n",
              "    .dataframe tbody tr th:only-of-type {\n",
              "        vertical-align: middle;\n",
              "    }\n",
              "\n",
              "    .dataframe tbody tr th {\n",
              "        vertical-align: top;\n",
              "    }\n",
              "\n",
              "    .dataframe thead th {\n",
              "        text-align: right;\n",
              "    }\n",
              "</style>\n",
              "<table border=\"1\" class=\"dataframe\">\n",
              "  <thead>\n",
              "    <tr style=\"text-align: right;\">\n",
              "      <th></th>\n",
              "      <th>tweets</th>\n",
              "      <th>likes</th>\n",
              "      <th>time</th>\n",
              "    </tr>\n",
              "  </thead>\n",
              "  <tbody>\n",
              "    <tr>\n",
              "      <th>0</th>\n",
              "      <td>@Crypto_Altology If Putin could so easily humi...</td>\n",
              "      <td>2636</td>\n",
              "      <td>2022-03-14 12:24:06</td>\n",
              "    </tr>\n",
              "    <tr>\n",
              "      <th>1</th>\n",
              "      <td>Вы согласны на этот бой? @KremlinRussia_E</td>\n",
              "      <td>19581</td>\n",
              "      <td>2022-03-14 11:53:36</td>\n",
              "    </tr>\n",
              "    <tr>\n",
              "      <th>2</th>\n",
              "      <td>@KasiaKomorowicz I am absolutely serious</td>\n",
              "      <td>7502</td>\n",
              "      <td>2022-03-14 11:46:36</td>\n",
              "    </tr>\n",
              "    <tr>\n",
              "      <th>3</th>\n",
              "      <td>@GraceRyanJess это было бы честью</td>\n",
              "      <td>2044</td>\n",
              "      <td>2022-03-14 11:20:43</td>\n",
              "    </tr>\n",
              "    <tr>\n",
              "      <th>4</th>\n",
              "      <td>I hereby challenge\\nВладимир Путин \\nto single...</td>\n",
              "      <td>87271</td>\n",
              "      <td>2022-03-14 11:09:22</td>\n",
              "    </tr>\n",
              "    <tr>\n",
              "      <th>5</th>\n",
              "      <td>By the pricking of my thumbs …</td>\n",
              "      <td>32071</td>\n",
              "      <td>2022-03-14 10:47:57</td>\n",
              "    </tr>\n",
              "    <tr>\n",
              "      <th>6</th>\n",
              "      <td>There is a beauty to the biological substrate</td>\n",
              "      <td>41460</td>\n",
              "      <td>2022-03-14 09:42:25</td>\n",
              "    </tr>\n",
              "    <tr>\n",
              "      <th>7</th>\n",
              "      <td>@crypto_birb 🤣</td>\n",
              "      <td>9646</td>\n",
              "      <td>2022-03-14 08:46:00</td>\n",
              "    </tr>\n",
              "    <tr>\n",
              "      <th>8</th>\n",
              "      <td>@BTC_Archive 🤣</td>\n",
              "      <td>10368</td>\n",
              "      <td>2022-03-14 08:41:28</td>\n",
              "    </tr>\n",
              "    <tr>\n",
              "      <th>9</th>\n",
              "      <td>https://t.co/Gw6xaw1u0N</td>\n",
              "      <td>430078</td>\n",
              "      <td>2022-03-14 08:31:53</td>\n",
              "    </tr>\n",
              "    <tr>\n",
              "      <th>10</th>\n",
              "      <td>https://t.co/CfoJ3qdCRJ</td>\n",
              "      <td>264228</td>\n",
              "      <td>2022-03-14 07:48:53</td>\n",
              "    </tr>\n",
              "    <tr>\n",
              "      <th>11</th>\n",
              "      <td>@saylor As a general principle, for those look...</td>\n",
              "      <td>40308</td>\n",
              "      <td>2022-03-14 04:11:38</td>\n",
              "    </tr>\n",
              "    <tr>\n",
              "      <th>12</th>\n",
              "      <td>@saylor It is not entirely unpredictable that ...</td>\n",
              "      <td>12372</td>\n",
              "      <td>2022-03-14 04:00:40</td>\n",
              "    </tr>\n",
              "    <tr>\n",
              "      <th>13</th>\n",
              "      <td>@BLKMDL3 @Tesla Model S &amp;amp; X are sublime</td>\n",
              "      <td>8284</td>\n",
              "      <td>2022-03-14 02:39:12</td>\n",
              "    </tr>\n",
              "    <tr>\n",
              "      <th>14</th>\n",
              "      <td>And we are not alone https://t.co/1RpsIbGWMl</td>\n",
              "      <td>22845</td>\n",
              "      <td>2022-03-14 01:48:03</td>\n",
              "    </tr>\n",
              "    <tr>\n",
              "      <th>15</th>\n",
              "      <td>Tesla &amp;amp; SpaceX are seeing significant rece...</td>\n",
              "      <td>48848</td>\n",
              "      <td>2022-03-14 01:41:19</td>\n",
              "    </tr>\n",
              "    <tr>\n",
              "      <th>16</th>\n",
              "      <td>@Gfilche @profgalloway 🤣</td>\n",
              "      <td>3418</td>\n",
              "      <td>2022-03-14 00:55:05</td>\n",
              "    </tr>\n",
              "    <tr>\n",
              "      <th>17</th>\n",
              "      <td>@jchybow If this version performs well, we can...</td>\n",
              "      <td>2642</td>\n",
              "      <td>2022-03-14 00:50:58</td>\n",
              "    </tr>\n",
              "    <tr>\n",
              "      <th>18</th>\n",
              "      <td>@Teslarati @Writer_01001101 Vector lanes is a ...</td>\n",
              "      <td>4955</td>\n",
              "      <td>2022-03-14 00:48:43</td>\n",
              "    </tr>\n",
              "    <tr>\n",
              "      <th>19</th>\n",
              "      <td>What are your thoughts about probable inflatio...</td>\n",
              "      <td>128922</td>\n",
              "      <td>2022-03-13 21:39:30</td>\n",
              "    </tr>\n",
              "  </tbody>\n",
              "</table>\n",
              "</div>\n",
              "      <button class=\"colab-df-convert\" onclick=\"convertToInteractive('df-7d716c4a-e14b-4c29-b581-9d83bded04e9')\"\n",
              "              title=\"Convert this dataframe to an interactive table.\"\n",
              "              style=\"display:none;\">\n",
              "        \n",
              "  <svg xmlns=\"http://www.w3.org/2000/svg\" height=\"24px\"viewBox=\"0 0 24 24\"\n",
              "       width=\"24px\">\n",
              "    <path d=\"M0 0h24v24H0V0z\" fill=\"none\"/>\n",
              "    <path d=\"M18.56 5.44l.94 2.06.94-2.06 2.06-.94-2.06-.94-.94-2.06-.94 2.06-2.06.94zm-11 1L8.5 8.5l.94-2.06 2.06-.94-2.06-.94L8.5 2.5l-.94 2.06-2.06.94zm10 10l.94 2.06.94-2.06 2.06-.94-2.06-.94-.94-2.06-.94 2.06-2.06.94z\"/><path d=\"M17.41 7.96l-1.37-1.37c-.4-.4-.92-.59-1.43-.59-.52 0-1.04.2-1.43.59L10.3 9.45l-7.72 7.72c-.78.78-.78 2.05 0 2.83L4 21.41c.39.39.9.59 1.41.59.51 0 1.02-.2 1.41-.59l7.78-7.78 2.81-2.81c.8-.78.8-2.07 0-2.86zM5.41 20L4 18.59l7.72-7.72 1.47 1.35L5.41 20z\"/>\n",
              "  </svg>\n",
              "      </button>\n",
              "      \n",
              "  <style>\n",
              "    .colab-df-container {\n",
              "      display:flex;\n",
              "      flex-wrap:wrap;\n",
              "      gap: 12px;\n",
              "    }\n",
              "\n",
              "    .colab-df-convert {\n",
              "      background-color: #E8F0FE;\n",
              "      border: none;\n",
              "      border-radius: 50%;\n",
              "      cursor: pointer;\n",
              "      display: none;\n",
              "      fill: #1967D2;\n",
              "      height: 32px;\n",
              "      padding: 0 0 0 0;\n",
              "      width: 32px;\n",
              "    }\n",
              "\n",
              "    .colab-df-convert:hover {\n",
              "      background-color: #E2EBFA;\n",
              "      box-shadow: 0px 1px 2px rgba(60, 64, 67, 0.3), 0px 1px 3px 1px rgba(60, 64, 67, 0.15);\n",
              "      fill: #174EA6;\n",
              "    }\n",
              "\n",
              "    [theme=dark] .colab-df-convert {\n",
              "      background-color: #3B4455;\n",
              "      fill: #D2E3FC;\n",
              "    }\n",
              "\n",
              "    [theme=dark] .colab-df-convert:hover {\n",
              "      background-color: #434B5C;\n",
              "      box-shadow: 0px 1px 3px 1px rgba(0, 0, 0, 0.15);\n",
              "      filter: drop-shadow(0px 1px 2px rgba(0, 0, 0, 0.3));\n",
              "      fill: #FFFFFF;\n",
              "    }\n",
              "  </style>\n",
              "\n",
              "      <script>\n",
              "        const buttonEl =\n",
              "          document.querySelector('#df-7d716c4a-e14b-4c29-b581-9d83bded04e9 button.colab-df-convert');\n",
              "        buttonEl.style.display =\n",
              "          google.colab.kernel.accessAllowed ? 'block' : 'none';\n",
              "\n",
              "        async function convertToInteractive(key) {\n",
              "          const element = document.querySelector('#df-7d716c4a-e14b-4c29-b581-9d83bded04e9');\n",
              "          const dataTable =\n",
              "            await google.colab.kernel.invokeFunction('convertToInteractive',\n",
              "                                                     [key], {});\n",
              "          if (!dataTable) return;\n",
              "\n",
              "          const docLinkHtml = 'Like what you see? Visit the ' +\n",
              "            '<a target=\"_blank\" href=https://colab.research.google.com/notebooks/data_table.ipynb>data table notebook</a>'\n",
              "            + ' to learn more about interactive tables.';\n",
              "          element.innerHTML = '';\n",
              "          dataTable['output_type'] = 'display_data';\n",
              "          await google.colab.output.renderOutput(dataTable, element);\n",
              "          const docLink = document.createElement('div');\n",
              "          docLink.innerHTML = docLinkHtml;\n",
              "          element.appendChild(docLink);\n",
              "        }\n",
              "      </script>\n",
              "    </div>\n",
              "  </div>\n",
              "  "
            ]
          },
          "metadata": {},
          "execution_count": 8
        }
      ],
      "source": [
        "df"
      ]
    },
    {
      "cell_type": "markdown",
      "source": [
        "**Remove Retweets**"
      ],
      "metadata": {
        "id": "qUtJDEDIKFgi"
      }
    },
    {
      "cell_type": "code",
      "execution_count": null,
      "metadata": {
        "id": "q_b6Tgt6W6wA"
      },
      "outputs": [],
      "source": [
        "df = df[~df.tweets.str.contains(\"RT\")]"
      ]
    },
    {
      "cell_type": "code",
      "execution_count": null,
      "metadata": {
        "id": "VzpemMq-W-rE"
      },
      "outputs": [],
      "source": [
        "df=df.reset_index(drop=True)"
      ]
    },
    {
      "cell_type": "code",
      "execution_count": null,
      "metadata": {
        "colab": {
          "base_uri": "https://localhost:8080/",
          "height": 676
        },
        "id": "NcaYHguNXC_a",
        "outputId": "e1a3cbd8-929e-437a-b53a-50679dd8d297"
      },
      "outputs": [
        {
          "output_type": "execute_result",
          "data": {
            "text/plain": [
              "                                               tweets   likes  \\\n",
              "0   @Crypto_Altology If Putin could so easily humi...    2636   \n",
              "1           Вы согласны на этот бой? @KremlinRussia_E   19581   \n",
              "2            @KasiaKomorowicz I am absolutely serious    7502   \n",
              "3                   @GraceRyanJess это было бы честью    2044   \n",
              "4   I hereby challenge\\nВладимир Путин \\nto single...   87271   \n",
              "5                      By the pricking of my thumbs …   32071   \n",
              "6       There is a beauty to the biological substrate   41460   \n",
              "7                                      @crypto_birb 🤣    9646   \n",
              "8                                      @BTC_Archive 🤣   10368   \n",
              "9                             https://t.co/Gw6xaw1u0N  430078   \n",
              "10                            https://t.co/CfoJ3qdCRJ  264228   \n",
              "11  @saylor As a general principle, for those look...   40308   \n",
              "12  @saylor It is not entirely unpredictable that ...   12372   \n",
              "13        @BLKMDL3 @Tesla Model S &amp; X are sublime    8284   \n",
              "14       And we are not alone https://t.co/1RpsIbGWMl   22845   \n",
              "15  Tesla &amp; SpaceX are seeing significant rece...   48848   \n",
              "16                           @Gfilche @profgalloway 🤣    3418   \n",
              "17  @jchybow If this version performs well, we can...    2642   \n",
              "18  @Teslarati @Writer_01001101 Vector lanes is a ...    4955   \n",
              "19  What are your thoughts about probable inflatio...  128922   \n",
              "\n",
              "                  time  \n",
              "0  2022-03-14 12:24:06  \n",
              "1  2022-03-14 11:53:36  \n",
              "2  2022-03-14 11:46:36  \n",
              "3  2022-03-14 11:20:43  \n",
              "4  2022-03-14 11:09:22  \n",
              "5  2022-03-14 10:47:57  \n",
              "6  2022-03-14 09:42:25  \n",
              "7  2022-03-14 08:46:00  \n",
              "8  2022-03-14 08:41:28  \n",
              "9  2022-03-14 08:31:53  \n",
              "10 2022-03-14 07:48:53  \n",
              "11 2022-03-14 04:11:38  \n",
              "12 2022-03-14 04:00:40  \n",
              "13 2022-03-14 02:39:12  \n",
              "14 2022-03-14 01:48:03  \n",
              "15 2022-03-14 01:41:19  \n",
              "16 2022-03-14 00:55:05  \n",
              "17 2022-03-14 00:50:58  \n",
              "18 2022-03-14 00:48:43  \n",
              "19 2022-03-13 21:39:30  "
            ],
            "text/html": [
              "\n",
              "  <div id=\"df-046c61cd-0bd4-4909-9d7b-dcea6974ccfc\">\n",
              "    <div class=\"colab-df-container\">\n",
              "      <div>\n",
              "<style scoped>\n",
              "    .dataframe tbody tr th:only-of-type {\n",
              "        vertical-align: middle;\n",
              "    }\n",
              "\n",
              "    .dataframe tbody tr th {\n",
              "        vertical-align: top;\n",
              "    }\n",
              "\n",
              "    .dataframe thead th {\n",
              "        text-align: right;\n",
              "    }\n",
              "</style>\n",
              "<table border=\"1\" class=\"dataframe\">\n",
              "  <thead>\n",
              "    <tr style=\"text-align: right;\">\n",
              "      <th></th>\n",
              "      <th>tweets</th>\n",
              "      <th>likes</th>\n",
              "      <th>time</th>\n",
              "    </tr>\n",
              "  </thead>\n",
              "  <tbody>\n",
              "    <tr>\n",
              "      <th>0</th>\n",
              "      <td>@Crypto_Altology If Putin could so easily humi...</td>\n",
              "      <td>2636</td>\n",
              "      <td>2022-03-14 12:24:06</td>\n",
              "    </tr>\n",
              "    <tr>\n",
              "      <th>1</th>\n",
              "      <td>Вы согласны на этот бой? @KremlinRussia_E</td>\n",
              "      <td>19581</td>\n",
              "      <td>2022-03-14 11:53:36</td>\n",
              "    </tr>\n",
              "    <tr>\n",
              "      <th>2</th>\n",
              "      <td>@KasiaKomorowicz I am absolutely serious</td>\n",
              "      <td>7502</td>\n",
              "      <td>2022-03-14 11:46:36</td>\n",
              "    </tr>\n",
              "    <tr>\n",
              "      <th>3</th>\n",
              "      <td>@GraceRyanJess это было бы честью</td>\n",
              "      <td>2044</td>\n",
              "      <td>2022-03-14 11:20:43</td>\n",
              "    </tr>\n",
              "    <tr>\n",
              "      <th>4</th>\n",
              "      <td>I hereby challenge\\nВладимир Путин \\nto single...</td>\n",
              "      <td>87271</td>\n",
              "      <td>2022-03-14 11:09:22</td>\n",
              "    </tr>\n",
              "    <tr>\n",
              "      <th>5</th>\n",
              "      <td>By the pricking of my thumbs …</td>\n",
              "      <td>32071</td>\n",
              "      <td>2022-03-14 10:47:57</td>\n",
              "    </tr>\n",
              "    <tr>\n",
              "      <th>6</th>\n",
              "      <td>There is a beauty to the biological substrate</td>\n",
              "      <td>41460</td>\n",
              "      <td>2022-03-14 09:42:25</td>\n",
              "    </tr>\n",
              "    <tr>\n",
              "      <th>7</th>\n",
              "      <td>@crypto_birb 🤣</td>\n",
              "      <td>9646</td>\n",
              "      <td>2022-03-14 08:46:00</td>\n",
              "    </tr>\n",
              "    <tr>\n",
              "      <th>8</th>\n",
              "      <td>@BTC_Archive 🤣</td>\n",
              "      <td>10368</td>\n",
              "      <td>2022-03-14 08:41:28</td>\n",
              "    </tr>\n",
              "    <tr>\n",
              "      <th>9</th>\n",
              "      <td>https://t.co/Gw6xaw1u0N</td>\n",
              "      <td>430078</td>\n",
              "      <td>2022-03-14 08:31:53</td>\n",
              "    </tr>\n",
              "    <tr>\n",
              "      <th>10</th>\n",
              "      <td>https://t.co/CfoJ3qdCRJ</td>\n",
              "      <td>264228</td>\n",
              "      <td>2022-03-14 07:48:53</td>\n",
              "    </tr>\n",
              "    <tr>\n",
              "      <th>11</th>\n",
              "      <td>@saylor As a general principle, for those look...</td>\n",
              "      <td>40308</td>\n",
              "      <td>2022-03-14 04:11:38</td>\n",
              "    </tr>\n",
              "    <tr>\n",
              "      <th>12</th>\n",
              "      <td>@saylor It is not entirely unpredictable that ...</td>\n",
              "      <td>12372</td>\n",
              "      <td>2022-03-14 04:00:40</td>\n",
              "    </tr>\n",
              "    <tr>\n",
              "      <th>13</th>\n",
              "      <td>@BLKMDL3 @Tesla Model S &amp;amp; X are sublime</td>\n",
              "      <td>8284</td>\n",
              "      <td>2022-03-14 02:39:12</td>\n",
              "    </tr>\n",
              "    <tr>\n",
              "      <th>14</th>\n",
              "      <td>And we are not alone https://t.co/1RpsIbGWMl</td>\n",
              "      <td>22845</td>\n",
              "      <td>2022-03-14 01:48:03</td>\n",
              "    </tr>\n",
              "    <tr>\n",
              "      <th>15</th>\n",
              "      <td>Tesla &amp;amp; SpaceX are seeing significant rece...</td>\n",
              "      <td>48848</td>\n",
              "      <td>2022-03-14 01:41:19</td>\n",
              "    </tr>\n",
              "    <tr>\n",
              "      <th>16</th>\n",
              "      <td>@Gfilche @profgalloway 🤣</td>\n",
              "      <td>3418</td>\n",
              "      <td>2022-03-14 00:55:05</td>\n",
              "    </tr>\n",
              "    <tr>\n",
              "      <th>17</th>\n",
              "      <td>@jchybow If this version performs well, we can...</td>\n",
              "      <td>2642</td>\n",
              "      <td>2022-03-14 00:50:58</td>\n",
              "    </tr>\n",
              "    <tr>\n",
              "      <th>18</th>\n",
              "      <td>@Teslarati @Writer_01001101 Vector lanes is a ...</td>\n",
              "      <td>4955</td>\n",
              "      <td>2022-03-14 00:48:43</td>\n",
              "    </tr>\n",
              "    <tr>\n",
              "      <th>19</th>\n",
              "      <td>What are your thoughts about probable inflatio...</td>\n",
              "      <td>128922</td>\n",
              "      <td>2022-03-13 21:39:30</td>\n",
              "    </tr>\n",
              "  </tbody>\n",
              "</table>\n",
              "</div>\n",
              "      <button class=\"colab-df-convert\" onclick=\"convertToInteractive('df-046c61cd-0bd4-4909-9d7b-dcea6974ccfc')\"\n",
              "              title=\"Convert this dataframe to an interactive table.\"\n",
              "              style=\"display:none;\">\n",
              "        \n",
              "  <svg xmlns=\"http://www.w3.org/2000/svg\" height=\"24px\"viewBox=\"0 0 24 24\"\n",
              "       width=\"24px\">\n",
              "    <path d=\"M0 0h24v24H0V0z\" fill=\"none\"/>\n",
              "    <path d=\"M18.56 5.44l.94 2.06.94-2.06 2.06-.94-2.06-.94-.94-2.06-.94 2.06-2.06.94zm-11 1L8.5 8.5l.94-2.06 2.06-.94-2.06-.94L8.5 2.5l-.94 2.06-2.06.94zm10 10l.94 2.06.94-2.06 2.06-.94-2.06-.94-.94-2.06-.94 2.06-2.06.94z\"/><path d=\"M17.41 7.96l-1.37-1.37c-.4-.4-.92-.59-1.43-.59-.52 0-1.04.2-1.43.59L10.3 9.45l-7.72 7.72c-.78.78-.78 2.05 0 2.83L4 21.41c.39.39.9.59 1.41.59.51 0 1.02-.2 1.41-.59l7.78-7.78 2.81-2.81c.8-.78.8-2.07 0-2.86zM5.41 20L4 18.59l7.72-7.72 1.47 1.35L5.41 20z\"/>\n",
              "  </svg>\n",
              "      </button>\n",
              "      \n",
              "  <style>\n",
              "    .colab-df-container {\n",
              "      display:flex;\n",
              "      flex-wrap:wrap;\n",
              "      gap: 12px;\n",
              "    }\n",
              "\n",
              "    .colab-df-convert {\n",
              "      background-color: #E8F0FE;\n",
              "      border: none;\n",
              "      border-radius: 50%;\n",
              "      cursor: pointer;\n",
              "      display: none;\n",
              "      fill: #1967D2;\n",
              "      height: 32px;\n",
              "      padding: 0 0 0 0;\n",
              "      width: 32px;\n",
              "    }\n",
              "\n",
              "    .colab-df-convert:hover {\n",
              "      background-color: #E2EBFA;\n",
              "      box-shadow: 0px 1px 2px rgba(60, 64, 67, 0.3), 0px 1px 3px 1px rgba(60, 64, 67, 0.15);\n",
              "      fill: #174EA6;\n",
              "    }\n",
              "\n",
              "    [theme=dark] .colab-df-convert {\n",
              "      background-color: #3B4455;\n",
              "      fill: #D2E3FC;\n",
              "    }\n",
              "\n",
              "    [theme=dark] .colab-df-convert:hover {\n",
              "      background-color: #434B5C;\n",
              "      box-shadow: 0px 1px 3px 1px rgba(0, 0, 0, 0.15);\n",
              "      filter: drop-shadow(0px 1px 2px rgba(0, 0, 0, 0.3));\n",
              "      fill: #FFFFFF;\n",
              "    }\n",
              "  </style>\n",
              "\n",
              "      <script>\n",
              "        const buttonEl =\n",
              "          document.querySelector('#df-046c61cd-0bd4-4909-9d7b-dcea6974ccfc button.colab-df-convert');\n",
              "        buttonEl.style.display =\n",
              "          google.colab.kernel.accessAllowed ? 'block' : 'none';\n",
              "\n",
              "        async function convertToInteractive(key) {\n",
              "          const element = document.querySelector('#df-046c61cd-0bd4-4909-9d7b-dcea6974ccfc');\n",
              "          const dataTable =\n",
              "            await google.colab.kernel.invokeFunction('convertToInteractive',\n",
              "                                                     [key], {});\n",
              "          if (!dataTable) return;\n",
              "\n",
              "          const docLinkHtml = 'Like what you see? Visit the ' +\n",
              "            '<a target=\"_blank\" href=https://colab.research.google.com/notebooks/data_table.ipynb>data table notebook</a>'\n",
              "            + ' to learn more about interactive tables.';\n",
              "          element.innerHTML = '';\n",
              "          dataTable['output_type'] = 'display_data';\n",
              "          await google.colab.output.renderOutput(dataTable, element);\n",
              "          const docLink = document.createElement('div');\n",
              "          docLink.innerHTML = docLinkHtml;\n",
              "          element.appendChild(docLink);\n",
              "        }\n",
              "      </script>\n",
              "    </div>\n",
              "  </div>\n",
              "  "
            ]
          },
          "metadata": {},
          "execution_count": 11
        }
      ],
      "source": [
        "df"
      ]
    },
    {
      "cell_type": "markdown",
      "source": [
        "**Most liked Tweeets**"
      ],
      "metadata": {
        "id": "BTRFvhxaKLkF"
      }
    },
    {
      "cell_type": "code",
      "execution_count": null,
      "metadata": {
        "id": "KEadbzEkXF_v"
      },
      "outputs": [],
      "source": [
        "mostlike = df.loc[df.likes.nlargest(5).index]"
      ]
    },
    {
      "cell_type": "code",
      "execution_count": null,
      "metadata": {
        "colab": {
          "base_uri": "https://localhost:8080/",
          "height": 206
        },
        "id": "eeq7R4gtXI64",
        "outputId": "b35c2b4c-5042-4f33-a279-823aff45cc9c"
      },
      "outputs": [
        {
          "output_type": "execute_result",
          "data": {
            "text/plain": [
              "                                               tweets   likes  \\\n",
              "9                             https://t.co/Gw6xaw1u0N  430078   \n",
              "10                            https://t.co/CfoJ3qdCRJ  264228   \n",
              "19  What are your thoughts about probable inflatio...  128922   \n",
              "4   I hereby challenge\\nВладимир Путин \\nto single...   87271   \n",
              "15  Tesla &amp; SpaceX are seeing significant rece...   48848   \n",
              "\n",
              "                  time  \n",
              "9  2022-03-14 08:31:53  \n",
              "10 2022-03-14 07:48:53  \n",
              "19 2022-03-13 21:39:30  \n",
              "4  2022-03-14 11:09:22  \n",
              "15 2022-03-14 01:41:19  "
            ],
            "text/html": [
              "\n",
              "  <div id=\"df-a142d114-309b-458c-99c4-41c926d810f4\">\n",
              "    <div class=\"colab-df-container\">\n",
              "      <div>\n",
              "<style scoped>\n",
              "    .dataframe tbody tr th:only-of-type {\n",
              "        vertical-align: middle;\n",
              "    }\n",
              "\n",
              "    .dataframe tbody tr th {\n",
              "        vertical-align: top;\n",
              "    }\n",
              "\n",
              "    .dataframe thead th {\n",
              "        text-align: right;\n",
              "    }\n",
              "</style>\n",
              "<table border=\"1\" class=\"dataframe\">\n",
              "  <thead>\n",
              "    <tr style=\"text-align: right;\">\n",
              "      <th></th>\n",
              "      <th>tweets</th>\n",
              "      <th>likes</th>\n",
              "      <th>time</th>\n",
              "    </tr>\n",
              "  </thead>\n",
              "  <tbody>\n",
              "    <tr>\n",
              "      <th>9</th>\n",
              "      <td>https://t.co/Gw6xaw1u0N</td>\n",
              "      <td>430078</td>\n",
              "      <td>2022-03-14 08:31:53</td>\n",
              "    </tr>\n",
              "    <tr>\n",
              "      <th>10</th>\n",
              "      <td>https://t.co/CfoJ3qdCRJ</td>\n",
              "      <td>264228</td>\n",
              "      <td>2022-03-14 07:48:53</td>\n",
              "    </tr>\n",
              "    <tr>\n",
              "      <th>19</th>\n",
              "      <td>What are your thoughts about probable inflatio...</td>\n",
              "      <td>128922</td>\n",
              "      <td>2022-03-13 21:39:30</td>\n",
              "    </tr>\n",
              "    <tr>\n",
              "      <th>4</th>\n",
              "      <td>I hereby challenge\\nВладимир Путин \\nto single...</td>\n",
              "      <td>87271</td>\n",
              "      <td>2022-03-14 11:09:22</td>\n",
              "    </tr>\n",
              "    <tr>\n",
              "      <th>15</th>\n",
              "      <td>Tesla &amp;amp; SpaceX are seeing significant rece...</td>\n",
              "      <td>48848</td>\n",
              "      <td>2022-03-14 01:41:19</td>\n",
              "    </tr>\n",
              "  </tbody>\n",
              "</table>\n",
              "</div>\n",
              "      <button class=\"colab-df-convert\" onclick=\"convertToInteractive('df-a142d114-309b-458c-99c4-41c926d810f4')\"\n",
              "              title=\"Convert this dataframe to an interactive table.\"\n",
              "              style=\"display:none;\">\n",
              "        \n",
              "  <svg xmlns=\"http://www.w3.org/2000/svg\" height=\"24px\"viewBox=\"0 0 24 24\"\n",
              "       width=\"24px\">\n",
              "    <path d=\"M0 0h24v24H0V0z\" fill=\"none\"/>\n",
              "    <path d=\"M18.56 5.44l.94 2.06.94-2.06 2.06-.94-2.06-.94-.94-2.06-.94 2.06-2.06.94zm-11 1L8.5 8.5l.94-2.06 2.06-.94-2.06-.94L8.5 2.5l-.94 2.06-2.06.94zm10 10l.94 2.06.94-2.06 2.06-.94-2.06-.94-.94-2.06-.94 2.06-2.06.94z\"/><path d=\"M17.41 7.96l-1.37-1.37c-.4-.4-.92-.59-1.43-.59-.52 0-1.04.2-1.43.59L10.3 9.45l-7.72 7.72c-.78.78-.78 2.05 0 2.83L4 21.41c.39.39.9.59 1.41.59.51 0 1.02-.2 1.41-.59l7.78-7.78 2.81-2.81c.8-.78.8-2.07 0-2.86zM5.41 20L4 18.59l7.72-7.72 1.47 1.35L5.41 20z\"/>\n",
              "  </svg>\n",
              "      </button>\n",
              "      \n",
              "  <style>\n",
              "    .colab-df-container {\n",
              "      display:flex;\n",
              "      flex-wrap:wrap;\n",
              "      gap: 12px;\n",
              "    }\n",
              "\n",
              "    .colab-df-convert {\n",
              "      background-color: #E8F0FE;\n",
              "      border: none;\n",
              "      border-radius: 50%;\n",
              "      cursor: pointer;\n",
              "      display: none;\n",
              "      fill: #1967D2;\n",
              "      height: 32px;\n",
              "      padding: 0 0 0 0;\n",
              "      width: 32px;\n",
              "    }\n",
              "\n",
              "    .colab-df-convert:hover {\n",
              "      background-color: #E2EBFA;\n",
              "      box-shadow: 0px 1px 2px rgba(60, 64, 67, 0.3), 0px 1px 3px 1px rgba(60, 64, 67, 0.15);\n",
              "      fill: #174EA6;\n",
              "    }\n",
              "\n",
              "    [theme=dark] .colab-df-convert {\n",
              "      background-color: #3B4455;\n",
              "      fill: #D2E3FC;\n",
              "    }\n",
              "\n",
              "    [theme=dark] .colab-df-convert:hover {\n",
              "      background-color: #434B5C;\n",
              "      box-shadow: 0px 1px 3px 1px rgba(0, 0, 0, 0.15);\n",
              "      filter: drop-shadow(0px 1px 2px rgba(0, 0, 0, 0.3));\n",
              "      fill: #FFFFFF;\n",
              "    }\n",
              "  </style>\n",
              "\n",
              "      <script>\n",
              "        const buttonEl =\n",
              "          document.querySelector('#df-a142d114-309b-458c-99c4-41c926d810f4 button.colab-df-convert');\n",
              "        buttonEl.style.display =\n",
              "          google.colab.kernel.accessAllowed ? 'block' : 'none';\n",
              "\n",
              "        async function convertToInteractive(key) {\n",
              "          const element = document.querySelector('#df-a142d114-309b-458c-99c4-41c926d810f4');\n",
              "          const dataTable =\n",
              "            await google.colab.kernel.invokeFunction('convertToInteractive',\n",
              "                                                     [key], {});\n",
              "          if (!dataTable) return;\n",
              "\n",
              "          const docLinkHtml = 'Like what you see? Visit the ' +\n",
              "            '<a target=\"_blank\" href=https://colab.research.google.com/notebooks/data_table.ipynb>data table notebook</a>'\n",
              "            + ' to learn more about interactive tables.';\n",
              "          element.innerHTML = '';\n",
              "          dataTable['output_type'] = 'display_data';\n",
              "          await google.colab.output.renderOutput(dataTable, element);\n",
              "          const docLink = document.createElement('div');\n",
              "          docLink.innerHTML = docLinkHtml;\n",
              "          element.appendChild(docLink);\n",
              "        }\n",
              "      </script>\n",
              "    </div>\n",
              "  </div>\n",
              "  "
            ]
          },
          "metadata": {},
          "execution_count": 13
        }
      ],
      "source": [
        "mostlike"
      ]
    },
    {
      "cell_type": "code",
      "execution_count": null,
      "metadata": {
        "colab": {
          "base_uri": "https://localhost:8080/"
        },
        "id": "CR8YrpBUXLMk",
        "outputId": "a9e72953-f21d-4ef5-d0a4-4c95277afa23"
      },
      "outputs": [
        {
          "output_type": "stream",
          "name": "stdout",
          "text": [
            "\u001b[38;5;2m✔ Download and installation successful\u001b[0m\n",
            "You can now load the model via spacy.load('en_core_web_lg')\n"
          ]
        }
      ],
      "source": [
        "import matplotlib.pyplot as plt\n",
        "import re\n",
        "import spacy.cli\n",
        "spacy.cli.download(\"en_core_web_lg\")\n",
        "nlp = spacy.load('en_core_web_lg')\n",
        "import seaborn as sns"
      ]
    },
    {
      "cell_type": "code",
      "execution_count": null,
      "metadata": {
        "id": "5fjoPOgwXUoq"
      },
      "outputs": [],
      "source": [
        "list_of_sentences = [sentence for sentence in df.tweets]\n",
        "\n",
        "lines = []\n",
        "for sentence in list_of_sentences:\n",
        "  words = sentence.split()\n",
        "  for w in words:\n",
        "    lines.append(w)"
      ]
    },
    {
      "cell_type": "markdown",
      "source": [
        "**Removing Special Character**"
      ],
      "metadata": {
        "id": "gqNTiEYFKSGv"
      }
    },
    {
      "cell_type": "code",
      "execution_count": null,
      "metadata": {
        "id": "PLkyTGbCXXsN"
      },
      "outputs": [],
      "source": [
        "for i in range(len(lines)):\n",
        "    lines[i] = lines[i].lower()\n",
        "lines = [re.sub(r'[^A-Za-z0-9]+','',x) for x in lines]\n",
        "\n",
        "lines2 = []\n",
        "\n",
        "for word in lines:\n",
        "  if word != '':\n",
        "    lines2.append(word)"
      ]
    },
    {
      "cell_type": "code",
      "execution_count": null,
      "metadata": {
        "id": "YZFosFQVXazs"
      },
      "outputs": [],
      "source": [
        "from nltk.stem.snowball import SnowballStemmer\n",
        "\n",
        "s_stemmer = SnowballStemmer(language = 'english')\n",
        "stem = []\n",
        "for word in lines2:\n",
        "  stem.append(s_stemmer.stem(word))"
      ]
    },
    {
      "cell_type": "code",
      "execution_count": null,
      "metadata": {
        "id": "Cv75P-_JXd0p"
      },
      "outputs": [],
      "source": [
        "stem2 = []\n",
        "for word in stem:\n",
        "  if word not in nlp.Defaults.stop_words:\n",
        "    stem2.append(word)"
      ]
    },
    {
      "cell_type": "code",
      "execution_count": null,
      "metadata": {
        "id": "nda0D8xfXgiH"
      },
      "outputs": [],
      "source": [
        "df2 = pd.DataFrame(stem2)\n",
        "df2 = df2[0].value_counts()"
      ]
    },
    {
      "cell_type": "markdown",
      "source": [
        "**Plotting Graph for most used words**"
      ],
      "metadata": {
        "id": "OAi6heWcKb5_"
      }
    },
    {
      "cell_type": "code",
      "execution_count": null,
      "metadata": {
        "id": "mPQzEttsXjC1",
        "colab": {
          "base_uri": "https://localhost:8080/",
          "height": 408
        },
        "outputId": "7fd394aa-6065-4b29-cf43-06e61a15f495"
      },
      "outputs": [
        {
          "output_type": "stream",
          "name": "stderr",
          "text": [
            "/usr/local/lib/python3.7/dist-packages/seaborn/_decorators.py:43: FutureWarning: Pass the following variables as keyword args: x, y. From version 0.12, the only valid positional argument will be `data`, and passing other arguments without an explicit keyword will result in an error or misinterpretation.\n",
            "  FutureWarning\n"
          ]
        },
        {
          "output_type": "display_data",
          "data": {
            "text/plain": [
              "<Figure size 720x360 with 1 Axes>"
            ],
            "image/png": "[encoded data removed]"
          },
          "metadata": {
            "needs_background": "light"
          }
        }
      ],
      "source": [
        "df2 = df2[:20,]\n",
        "plt.figure(figsize=(10,5))\n",
        "sns.barplot(df2.values, df2.index, alpha=1)\n",
        "plt.title('Top words Overall')\n",
        "plt.ylabel('Word from Tweet',fontsize=12)\n",
        "plt.xlabel('Count of Words',fontsize=12)\n",
        "plt.show()"
      ]
    },
    {
      "cell_type": "markdown",
      "source": [
        "**Top mentioned person name in Narendra Modi tweets**"
      ],
      "metadata": {
        "id": "YjoFXbkGKjDC"
      }
    },
    {
      "cell_type": "code",
      "execution_count": null,
      "metadata": {
        "id": "eQQPEmZbXoB9"
      },
      "outputs": [],
      "source": [
        "str1 = \" \"\n",
        "stem2 = str1.join(lines2)\n",
        "stem2 = nlp(stem2)\n",
        "label = [(X.text, X.label_) for X in stem2.ents]\n",
        "df10 = pd.DataFrame(label, columns = ['Word', 'Entity'])\n",
        "df10 = df10.where(df10['Entity'] == 'PERSON')\n",
        "df11 = df10['Word'].value_counts()"
      ]
    },
    {
      "cell_type": "code",
      "execution_count": null,
      "metadata": {
        "id": "O6oNWGHMXrhb",
        "colab": {
          "base_uri": "https://localhost:8080/",
          "height": 408
        },
        "outputId": "4bcb58ad-4529-4979-ccbc-0b977f9301e8"
      },
      "outputs": [
        {
          "output_type": "stream",
          "name": "stderr",
          "text": [
            "/usr/local/lib/python3.7/dist-packages/seaborn/_decorators.py:43: FutureWarning: Pass the following variables as keyword args: x, y. From version 0.12, the only valid positional argument will be `data`, and passing other arguments without an explicit keyword will result in an error or misinterpretation.\n",
            "  FutureWarning\n"
          ]
        },
        {
          "output_type": "display_data",
          "data": {
            "text/plain": [
              "<Figure size 720x360 with 1 Axes>"
            ],
            "image/png": "[encoded data removed]"
          },
          "metadata": {
            "needs_background": "light"
          }
        }
      ],
      "source": [
        "dfy = df11[:20,]\n",
        "plt.figure(figsize=(10,5))\n",
        "sns.barplot(dfy.values, dfy.index, alpha=1)\n",
        "plt.title('Top people mentioned')\n",
        "plt.ylabel('Word from Tweet',fontsize=12)\n",
        "plt.xlabel('Count of Words',fontsize=12)\n",
        "plt.show()"
      ]
    }
  ],
  "metadata": {
    "colab": {
      "collapsed_sections": [],
      "name": "Experiment-03.1.ipynb",
      "provenance": [],
      "authorship_tag": "ABX9TyOh6YNWJ70PBPhgXRjsNlIX",
      "include_colab_link": true
    },
    "kernelspec": {
      "display_name": "Python 3",
      "name": "python3"
    },
    "language_info": {
      "name": "python"
    }
  },
  "nbformat": 4,
  "nbformat_minor": 0
}